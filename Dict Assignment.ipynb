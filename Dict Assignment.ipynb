{
 "cells": [
  {
   "cell_type": "code",
   "execution_count": 1,
   "id": "128a1749-d1df-44ad-8f8b-f594cbc3c8a7",
   "metadata": {},
   "outputs": [
    {
     "name": "stdout",
     "output_type": "stream",
     "text": [
      "Question 1: Create a dictionary of student names and their ages\n"
     ]
    }
   ],
   "source": [
    "# Question 1: Create a dictionary of student names and their ages\n",
    "print(\"Question 1: Create a dictionary of student names and their ages\")"
   ]
  },
  {
   "cell_type": "code",
   "execution_count": 3,
   "id": "b23006d6-a2d8-4443-aad5-c64e3a499e43",
   "metadata": {},
   "outputs": [
    {
     "name": "stdout",
     "output_type": "stream",
     "text": [
      "{'name': 'shubham', 'age': 30}\n"
     ]
    },
    {
     "data": {
      "text/plain": [
       "dict"
      ]
     },
     "execution_count": 3,
     "metadata": {},
     "output_type": "execute_result"
    }
   ],
   "source": [
    "x={\"name\":\"shubham\",\"age\":30}\n",
    "print(x)\n",
    "type(x)"
   ]
  },
  {
   "cell_type": "code",
   "execution_count": 4,
   "id": "71b9b706-0d31-4046-aab6-5c1ce3424aa8",
   "metadata": {},
   "outputs": [
    {
     "name": "stdout",
     "output_type": "stream",
     "text": [
      "\n",
      "Question 2: Add a new key-value pair to dictionary {'a': 1, 'b': 2, 'c': 3}\n"
     ]
    }
   ],
   "source": [
    "# Question 2: Add a new key-value pair to dictionary {'a': 1, 'b': 2, 'c': 3}\n",
    "print(\"\\nQuestion 2: Add a new key-value pair to dictionary {'a': 1, 'b': 2, 'c': 3}\")"
   ]
  },
  {
   "cell_type": "code",
   "execution_count": 6,
   "id": "38845a24-03cf-49c8-b501-812d2d1c2bc6",
   "metadata": {},
   "outputs": [
    {
     "name": "stdout",
     "output_type": "stream",
     "text": [
      "{'a': 1, 'b': 2, 'c': 3, 'd': 5}\n"
     ]
    }
   ],
   "source": [
    "x={'a': 1, 'b': 2, 'c': 3}\n",
    "x['d']=5\n",
    "print(x)"
   ]
  },
  {
   "cell_type": "code",
   "execution_count": 7,
   "id": "632cecf5-da1e-473b-981e-f55a897509bf",
   "metadata": {},
   "outputs": [
    {
     "name": "stdout",
     "output_type": "stream",
     "text": [
      "\n",
      "Question 3: Get all keys from dictionary {'name': 'John', 'age': 25, 'city': 'New York'}\n"
     ]
    }
   ],
   "source": [
    "# Question 3: Get all keys from dictionary {'name': 'John', 'age': 25, 'city': 'New York'}\n",
    "print(\"\\nQuestion 3: Get all keys from dictionary {'name': 'John', 'age': 25, 'city': 'New York'}\")"
   ]
  },
  {
   "cell_type": "code",
   "execution_count": 10,
   "id": "750d0e59-fb48-4ef7-8d51-7df86a84bfd7",
   "metadata": {},
   "outputs": [
    {
     "name": "stdout",
     "output_type": "stream",
     "text": [
      "dict_keys(['name', 'age', 'city'])\n"
     ]
    }
   ],
   "source": [
    "x={'name': 'John', 'age': 25, 'city': 'New York'}\n",
    "y=x.keys()\n",
    "print(y)"
   ]
  },
  {
   "cell_type": "code",
   "execution_count": 11,
   "id": "03c9bb07-b861-47dc-8037-287f1f9d7d53",
   "metadata": {},
   "outputs": [
    {
     "name": "stdout",
     "output_type": "stream",
     "text": [
      "\n",
      "Question 4: Get all values from dictionary {'python': 3, 'java': 2, 'c++': 1}\n"
     ]
    }
   ],
   "source": [
    "# Question 4: Get all values from dictionary {'python': 3, 'java': 2, 'c++': 1}\n",
    "print(\"\\nQuestion 4: Get all values from dictionary {'python': 3, 'java': 2, 'c++': 1}\")"
   ]
  },
  {
   "cell_type": "code",
   "execution_count": 12,
   "id": "22ef7804-bd49-45e0-a8de-a05982e5faae",
   "metadata": {},
   "outputs": [
    {
     "name": "stdout",
     "output_type": "stream",
     "text": [
      "dict_values([3, 2, 1])\n"
     ]
    }
   ],
   "source": [
    "x={'python': 3, 'java': 2, 'c++': 1}\n",
    "y=x.values()\n",
    "print(y)"
   ]
  },
  {
   "cell_type": "code",
   "execution_count": 13,
   "id": "1bf5ab35-2559-4835-b0bb-c31b82c5b284",
   "metadata": {},
   "outputs": [
    {
     "name": "stdout",
     "output_type": "stream",
     "text": [
      "\n",
      "Question 5: Check if key 'age' exists in {'name': 'Alice', 'age': 30, 'city': 'London'}\n"
     ]
    }
   ],
   "source": [
    "# Question 5: Check if key 'age' exists in {'name': 'Alice', 'age': 30, 'city': 'London'}\n",
    "print(\"\\nQuestion 5: Check if key 'age' exists in {'name': 'Alice', 'age': 30, 'city': 'London'}\")"
   ]
  },
  {
   "cell_type": "code",
   "execution_count": 15,
   "id": "f39f728d-3442-40d6-a8f0-02897d0c871c",
   "metadata": {},
   "outputs": [
    {
     "name": "stdout",
     "output_type": "stream",
     "text": [
      "Yes\n"
     ]
    }
   ],
   "source": [
    "x={'name': 'Alice', 'age': 30, 'city': 'London'}\n",
    "y='age'\n",
    "if y in x:\n",
    "    print('Yes')\n",
    "else:\n",
    "    print(\"No\")"
   ]
  },
  {
   "cell_type": "code",
   "execution_count": 16,
   "id": "58666e32-3619-4a02-9e92-b1a73897225c",
   "metadata": {},
   "outputs": [
    {
     "name": "stdout",
     "output_type": "stream",
     "text": [
      "\n",
      "Question 6: Remove key 'temp' from {'a': 1, 'b': 2, 'temp': 3, 'c': 4}\n"
     ]
    }
   ],
   "source": [
    "# Question 6: Remove key 'temp' from {'a': 1, 'b': 2, 'temp': 3, 'c': 4}\n",
    "print(\"\\nQuestion 6: Remove key 'temp' from {'a': 1, 'b': 2, 'temp': 3, 'c': 4}\")"
   ]
  },
  {
   "cell_type": "code",
   "execution_count": 17,
   "id": "59ca9611-76ff-4958-a875-165027b3c3a0",
   "metadata": {},
   "outputs": [
    {
     "name": "stdout",
     "output_type": "stream",
     "text": [
      "{'a': 1, 'b': 2, 'c': 4}\n"
     ]
    }
   ],
   "source": [
    "x={'a': 1, 'b': 2, 'temp': 3, 'c': 4}\n",
    "del x['temp']\n",
    "print(x)"
   ]
  },
  {
   "cell_type": "code",
   "execution_count": 18,
   "id": "62267299-2b34-403f-9719-5dea036d37d3",
   "metadata": {},
   "outputs": [
    {
     "name": "stdout",
     "output_type": "stream",
     "text": [
      "\n",
      "Question 7: Find the sum of all values in {'math': 85, 'science': 92, 'english': 78}\n"
     ]
    }
   ],
   "source": [
    "# Question 7: Find the sum of all values in {'math': 85, 'science': 92, 'english': 78}\n",
    "print(\"\\nQuestion 7: Find the sum of all values in {'math': 85, 'science': 92, 'english': 78}\")"
   ]
  },
  {
   "cell_type": "code",
   "execution_count": 20,
   "id": "dc46ea81-722b-4a48-b9ab-8af1c7110e1d",
   "metadata": {},
   "outputs": [
    {
     "name": "stdout",
     "output_type": "stream",
     "text": [
      "255\n"
     ]
    }
   ],
   "source": [
    "x={'math': 85, 'science': 92, 'english': 78}\n",
    "y=sum(x.values())\n",
    "print(y)"
   ]
  },
  {
   "cell_type": "code",
   "execution_count": 21,
   "id": "eafffa2a-a531-49eb-9a60-ec2a1e0ad3b3",
   "metadata": {},
   "outputs": [
    {
     "name": "stdout",
     "output_type": "stream",
     "text": [
      "\n",
      "Question 8: Create a dictionary with squares of numbers 1 to 5\n"
     ]
    }
   ],
   "source": [
    "# Question 8: Create a dictionary with squares of numbers 1 to 5\n",
    "print(\"\\nQuestion 8: Create a dictionary with squares of numbers 1 to 5\")"
   ]
  },
  {
   "cell_type": "code",
   "execution_count": 22,
   "id": "77de4bf4-6ddc-4590-a20f-7cf52c63ab1f",
   "metadata": {},
   "outputs": [
    {
     "name": "stdout",
     "output_type": "stream",
     "text": [
      "{1: 1, 2: 4, 3: 9, 4: 16, 5: 25}\n"
     ]
    }
   ],
   "source": [
    "x= {num: num**2 for num in range(1, 6)}\n",
    "print(x)"
   ]
  },
  {
   "cell_type": "code",
   "execution_count": 23,
   "id": "372a6451-716c-4de0-935f-37319713637f",
   "metadata": {},
   "outputs": [
    {
     "name": "stdout",
     "output_type": "stream",
     "text": [
      "\n",
      "Question 9: Count frequency of each character in string 'hello'\n"
     ]
    }
   ],
   "source": [
    "# Question 9: Count frequency of each character in string \"hello\"\n",
    "print(\"\\nQuestion 9: Count frequency of each character in string 'hello'\")"
   ]
  },
  {
   "cell_type": "code",
   "execution_count": 27,
   "id": "24ef83d5-faf7-4ace-bc02-d2c0d402cd52",
   "metadata": {},
   "outputs": [
    {
     "name": "stdout",
     "output_type": "stream",
     "text": [
      "Counter({'l': 2, 'h': 1, 'e': 1, 'o': 1})\n"
     ]
    }
   ],
   "source": [
    "from collections import Counter\n",
    "x='hello'\n",
    "y=Counter(x)\n",
    "print(y)"
   ]
  },
  {
   "cell_type": "code",
   "execution_count": 28,
   "id": "1f454d28-aad5-40af-a418-c327c7ff6f75",
   "metadata": {},
   "outputs": [
    {
     "name": "stdout",
     "output_type": "stream",
     "text": [
      "\n",
      "Question 10: Merge two dictionaries {'a': 1, 'b': 2} and {'c': 3, 'd': 4}\n"
     ]
    }
   ],
   "source": [
    "# Question 10: Merge two dictionaries {'a': 1, 'b': 2} and {'c': 3, 'd': 4}\n",
    "print(\"\\nQuestion 10: Merge two dictionaries {'a': 1, 'b': 2} and {'c': 3, 'd': 4}\")\n"
   ]
  },
  {
   "cell_type": "code",
   "execution_count": 31,
   "id": "9d6e9ce3-6a06-4be4-b176-003e9e84c17e",
   "metadata": {},
   "outputs": [
    {
     "name": "stdout",
     "output_type": "stream",
     "text": [
      "{'a': 1, 'b': 2, 'c': 3, 'd': 4}\n"
     ]
    }
   ],
   "source": [
    "x= {'a': 1, 'b': 2}\n",
    "y={'c': 3, 'd': 4}\n",
    "x.update(y)\n",
    "print(x)"
   ]
  },
  {
   "cell_type": "code",
   "execution_count": 32,
   "id": "ccfb167a-8906-4391-9cb8-ce2755308c62",
   "metadata": {},
   "outputs": [
    {
     "name": "stdout",
     "output_type": "stream",
     "text": [
      "\n",
      "Question 11: Create a nested dictionary: {'person': {'name': 'Alice', 'age': 25}}\n"
     ]
    }
   ],
   "source": [
    "# Question 11: Create a nested dictionary: {'person': {'name': 'Alice', 'age': 25}}\n",
    "print(\"\\nQuestion 11: Create a nested dictionary: {'person': {'name': 'Alice', 'age': 25}}\")"
   ]
  },
  {
   "cell_type": "code",
   "execution_count": 33,
   "id": "fc2b1cd1-9081-4341-a2ed-91a32a690510",
   "metadata": {},
   "outputs": [
    {
     "data": {
      "text/plain": [
       "dict"
      ]
     },
     "execution_count": 33,
     "metadata": {},
     "output_type": "execute_result"
    }
   ],
   "source": [
    "x={'person': {'name': 'Alice', 'age': 25}}\n",
    "type(x)"
   ]
  },
  {
   "cell_type": "code",
   "execution_count": 34,
   "id": "cab24325-3961-4c16-b431-d62e1122df21",
   "metadata": {},
   "outputs": [
    {
     "name": "stdout",
     "output_type": "stream",
     "text": [
      "\n",
      "Question 12: Access nested value 'name' from {'person': {'name': 'Alice', 'age': 25}}\n"
     ]
    }
   ],
   "source": [
    "# Question 12: Access nested value 'name' from {'person': {'name': 'Alice', 'age': 25}}\n",
    "print(\"\\nQuestion 12: Access nested value 'name' from {'person': {'name': 'Alice', 'age': 25}}\")"
   ]
  },
  {
   "cell_type": "code",
   "execution_count": 37,
   "id": "b16d4bf4-312d-4c81-8cf9-853a2179f3c5",
   "metadata": {},
   "outputs": [
    {
     "data": {
      "text/plain": [
       "'Alice'"
      ]
     },
     "execution_count": 37,
     "metadata": {},
     "output_type": "execute_result"
    }
   ],
   "source": [
    "x= {'person': {'name': 'Alice', 'age': 25}}\n",
    "x['person']['name']"
   ]
  },
  {
   "cell_type": "code",
   "execution_count": 38,
   "id": "9fd5faee-9ecd-4796-a8f6-eb5ce67a644d",
   "metadata": {},
   "outputs": [
    {
     "name": "stdout",
     "output_type": "stream",
     "text": [
      "\n",
      "Question 13: Create a dictionary with list values: {'fruits': ['apple', 'banana'], 'colors': ['red', 'blue']}\n"
     ]
    }
   ],
   "source": [
    "# Question 13: Create a dictionary with list values: {'fruits': ['apple', 'banana'], 'colors': ['red', 'blue']}\n",
    "print(\"\\nQuestion 13: Create a dictionary with list values: {'fruits': ['apple', 'banana'], 'colors': ['red', 'blue']}\")"
   ]
  },
  {
   "cell_type": "code",
   "execution_count": 1,
   "id": "70ae2d19-750a-4b6f-a5da-c8c394337270",
   "metadata": {},
   "outputs": [
    {
     "data": {
      "text/plain": [
       "dict"
      ]
     },
     "execution_count": 1,
     "metadata": {},
     "output_type": "execute_result"
    }
   ],
   "source": [
    "x= {'fruits': ['apple', 'banana'], 'colors': ['red', 'blue']}\n",
    "type(x)"
   ]
  },
  {
   "cell_type": "code",
   "execution_count": 2,
   "id": "936a6b46-2ee9-4c64-8290-c9520bf01759",
   "metadata": {},
   "outputs": [
    {
     "name": "stdout",
     "output_type": "stream",
     "text": [
      "\n",
      "Question 14: Add 'orange' to the 'fruits' list in nested dictionary\n"
     ]
    }
   ],
   "source": [
    "# Question 14: Add 'orange' to the 'fruits' list in nested dictionary\n",
    "print(\"\\nQuestion 14: Add 'orange' to the 'fruits' list in nested dictionary\")"
   ]
  },
  {
   "cell_type": "code",
   "execution_count": 3,
   "id": "3371d173-4aec-486f-8a7f-0e09fb5dd8ad",
   "metadata": {},
   "outputs": [
    {
     "name": "stdout",
     "output_type": "stream",
     "text": [
      "{'fruits': ['apple', 'banana'], 'colors': ['red', 'blue']}\n"
     ]
    }
   ],
   "source": [
    "print(x)"
   ]
  },
  {
   "cell_type": "code",
   "execution_count": 4,
   "id": "e3d8c1db-e2bf-4ebd-ab71-b5bea012a49d",
   "metadata": {},
   "outputs": [
    {
     "name": "stdout",
     "output_type": "stream",
     "text": [
      "{'fruits': {'yellow': 'mango', 'pink': 'dragon fruit', 'color': 'orange'}}\n"
     ]
    }
   ],
   "source": [
    "x = {'fruits':{'yellow': 'mango', 'pink': 'dragon fruit'} }\n",
    "y = x['fruits']['color'] = 'orange'\n",
    "print(x)"
   ]
  },
  {
   "cell_type": "code",
   "execution_count": 5,
   "id": "06a11033-13fc-41c7-b087-1fa7e4abee11",
   "metadata": {},
   "outputs": [
    {
     "name": "stdout",
     "output_type": "stream",
     "text": [
      "\n",
      "Question 15: Create a dictionary with tuple values: {'coordinates': (10, 20), 'rgb': (255, 0, 0)}\n"
     ]
    }
   ],
   "source": [
    "# Question 15: Create a dictionary with tuple values: {'coordinates': (10, 20), 'rgb': (255, 0, 0)}\n",
    "print(\"\\nQuestion 15: Create a dictionary with tuple values: {'coordinates': (10, 20), 'rgb': (255, 0, 0)}\")"
   ]
  },
  {
   "cell_type": "code",
   "execution_count": 6,
   "id": "47922d91-87be-4c27-bd18-87a6f9335ea1",
   "metadata": {},
   "outputs": [],
   "source": [
    "x={'coordinates': (10, 20), 'rgb': (255, 0, 0)}"
   ]
  },
  {
   "cell_type": "code",
   "execution_count": 7,
   "id": "449cd77e-fbdc-4116-b289-43812f0748b0",
   "metadata": {},
   "outputs": [
    {
     "data": {
      "text/plain": [
       "dict"
      ]
     },
     "execution_count": 7,
     "metadata": {},
     "output_type": "execute_result"
    }
   ],
   "source": [
    "type(x)"
   ]
  },
  {
   "cell_type": "code",
   "execution_count": 8,
   "id": "f2a034ee-ac35-4f5c-9cb5-ac8a5011cac2",
   "metadata": {},
   "outputs": [
    {
     "name": "stdout",
     "output_type": "stream",
     "text": [
      "\n",
      "Question 16: Extract first coordinate from nested tuple\n"
     ]
    }
   ],
   "source": [
    "# Question 16: Extract first coordinate from nested tuple\n",
    "print(\"\\nQuestion 16: Extract first coordinate from nested tuple\")"
   ]
  },
  {
   "cell_type": "code",
   "execution_count": 9,
   "id": "dec8a93d-1a16-4506-a1d1-06ef0765e1ab",
   "metadata": {},
   "outputs": [
    {
     "data": {
      "text/plain": [
       "10"
      ]
     },
     "execution_count": 9,
     "metadata": {},
     "output_type": "execute_result"
    }
   ],
   "source": [
    "x={'coordinates': (10, 20), 'rgb': (255, 0, 0)}\n",
    "x['coordinates'][0]"
   ]
  },
  {
   "cell_type": "code",
   "execution_count": 10,
   "id": "b3a870e9-49d0-4726-a6f3-ad58ccf48880",
   "metadata": {},
   "outputs": [
    {
     "name": "stdout",
     "output_type": "stream",
     "text": [
      "\n",
      "Question 17: Create a dictionary with set values: {'vowels': {'a', 'e', 'i'}, 'consonants': {'b', 'c', 'd'}}\n"
     ]
    }
   ],
   "source": [
    "# Question 17: Create a dictionary with set values: {'vowels': {'a', 'e', 'i'}, 'consonants': {'b', 'c', 'd'}}\n",
    "print(\"\\nQuestion 17: Create a dictionary with set values: {'vowels': {'a', 'e', 'i'}, 'consonants': {'b', 'c', 'd'}}\")"
   ]
  },
  {
   "cell_type": "code",
   "execution_count": 11,
   "id": "29b0a72b-9023-497a-923b-c05f924f7b54",
   "metadata": {},
   "outputs": [],
   "source": [
    "x={'vowels': {'a', 'e', 'i'}, 'consonants': {'b', 'c', 'd'}}"
   ]
  },
  {
   "cell_type": "code",
   "execution_count": 12,
   "id": "39645d07-6519-421d-82ed-d0f1d7e8c12a",
   "metadata": {},
   "outputs": [
    {
     "name": "stdout",
     "output_type": "stream",
     "text": [
      "{'vowels': {'a', 'e', 'i'}, 'consonants': {'c', 'd', 'b'}}\n"
     ]
    }
   ],
   "source": [
    "print(x)"
   ]
  },
  {
   "cell_type": "code",
   "execution_count": 13,
   "id": "feb9bb64-e9a7-466a-84fc-02071a6bacf5",
   "metadata": {},
   "outputs": [
    {
     "name": "stdout",
     "output_type": "stream",
     "text": [
      "\n",
      "Question 18: Add 'o' to vowels set in nested dictionary\n"
     ]
    }
   ],
   "source": [
    "# Question 18: Add 'o' to vowels set in nested dictionary\n",
    "print(\"\\nQuestion 18: Add 'o' to vowels set in nested dictionary\")"
   ]
  },
  {
   "cell_type": "code",
   "execution_count": 19,
   "id": "376476a8-4099-4611-93b7-568eb117ac32",
   "metadata": {},
   "outputs": [
    {
     "name": "stdout",
     "output_type": "stream",
     "text": [
      "{'vowels': {'a', 'e', 'i', 'o'}, 'consonants': {'c', 'd', 'b'}}\n"
     ]
    }
   ],
   "source": [
    "x={'vowels': {'a', 'e', 'i'}, 'consonants': {'b', 'c', 'd'}}\n",
    "y = x['vowels']\n",
    "y.add('o')\n",
    "print(x)  ###need to specify set then change\n"
   ]
  },
  {
   "cell_type": "code",
   "execution_count": 20,
   "id": "51569524-cc54-4193-b25d-54aa318a96b7",
   "metadata": {},
   "outputs": [
    {
     "name": "stdout",
     "output_type": "stream",
     "text": [
      "{'vowels': {'a', 'e', 'i', 'o'}, 'consonants': {'c', 'd', 'b'}}\n"
     ]
    }
   ],
   "source": [
    "print(x)"
   ]
  },
  {
   "cell_type": "code",
   "execution_count": 21,
   "id": "4b4c8ef1-97ca-407b-a7da-b69eb464d3ce",
   "metadata": {},
   "outputs": [
    {
     "name": "stdout",
     "output_type": "stream",
     "text": [
      "\n",
      "Question 19: Create a 3-level nested dictionary: {'company': {'department': {'employee': {'name': 'John', 'id': 123}}}}\n"
     ]
    }
   ],
   "source": [
    "# Question 19: Create a 3-level nested dictionary: {'company': {'department': {'employee': {'name': 'John', 'id': 123}}}}\n",
    "print(\"\\nQuestion 19: Create a 3-level nested dictionary: {'company': {'department': {'employee': {'name': 'John', 'id': 123}}}}\")"
   ]
  },
  {
   "cell_type": "code",
   "execution_count": 22,
   "id": "c501eb0a-b440-4f69-ad66-645beb6fdffb",
   "metadata": {},
   "outputs": [
    {
     "name": "stdout",
     "output_type": "stream",
     "text": [
      "{'company': {'department': {'employee': {'name': 'John', 'id': 123}}}}\n"
     ]
    }
   ],
   "source": [
    "x={'company': {'department': {'employee': {'name': 'John', 'id': 123}}}}\n",
    "print(x)"
   ]
  },
  {
   "cell_type": "code",
   "execution_count": 23,
   "id": "16698577-badc-4722-9fad-abd2b905da50",
   "metadata": {},
   "outputs": [
    {
     "name": "stdout",
     "output_type": "stream",
     "text": [
      "\n",
      "Question 20: Access employee name from 3-level nested dictionary\n"
     ]
    }
   ],
   "source": [
    "# Question 20: Access employee name from 3-level nested dictionary\n",
    "print(\"\\nQuestion 20: Access employee name from 3-level nested dictionary\")\n",
    "\n"
   ]
  },
  {
   "cell_type": "code",
   "execution_count": 25,
   "id": "cbb85bff-99ca-4a11-a614-64d0be5ef524",
   "metadata": {},
   "outputs": [
    {
     "data": {
      "text/plain": [
       "'John'"
      ]
     },
     "execution_count": 25,
     "metadata": {},
     "output_type": "execute_result"
    }
   ],
   "source": [
    "x['company']['department']['employee']['name']"
   ]
  },
  {
   "cell_type": "code",
   "execution_count": 26,
   "id": "f7c570cf-05b9-410e-af85-39be7e4693f7",
   "metadata": {},
   "outputs": [
    {
     "name": "stdout",
     "output_type": "stream",
     "text": [
      "\n",
      "Question 21: Create a dictionary with mixed data types: {'int': 42, 'float': 3.14, 'str': 'hello', 'bool': True}\n"
     ]
    }
   ],
   "source": [
    "# Question 21: Create a dictionary with mixed data types: {'int': 42, 'float': 3.14, 'str': 'hello', 'bool': True}\n",
    "print(\"\\nQuestion 21: Create a dictionary with mixed data types: {'int': 42, 'float': 3.14, 'str': 'hello', 'bool': True}\")"
   ]
  },
  {
   "cell_type": "code",
   "execution_count": 27,
   "id": "a67e415f-97f9-4416-b242-66f1809d2ea7",
   "metadata": {},
   "outputs": [],
   "source": [
    "x= {'int': 42, 'float': 3.14, 'str': 'hello', 'bool': True}"
   ]
  },
  {
   "cell_type": "code",
   "execution_count": 28,
   "id": "79f27640-45e9-42b2-a57b-93cd0fe60db9",
   "metadata": {},
   "outputs": [
    {
     "name": "stdout",
     "output_type": "stream",
     "text": [
      "\n",
      "Question 22: Check data type of each value in mixed dictionary\n"
     ]
    }
   ],
   "source": [
    "# Question 22: Check data type of each value in mixed dictionary\n",
    "print(\"\\nQuestion 22: Check data type of each value in mixed dictionary\")"
   ]
  },
  {
   "cell_type": "code",
   "execution_count": 29,
   "id": "82918126-161b-436a-88b0-869d844c406f",
   "metadata": {},
   "outputs": [],
   "source": [
    "x= {'int': 42, 'float': 3.14, 'str': 'hello', 'bool': True}"
   ]
  },
  {
   "cell_type": "code",
   "execution_count": 30,
   "id": "f360e959-c75b-4bc7-863c-657f0c2529fa",
   "metadata": {},
   "outputs": [
    {
     "name": "stdout",
     "output_type": "stream",
     "text": [
      "The data type of the value for key 'int' is: <class 'int'>\n",
      "The data type of the value for key 'float' is: <class 'float'>\n",
      "The data type of the value for key 'str' is: <class 'str'>\n",
      "The data type of the value for key 'bool' is: <class 'bool'>\n"
     ]
    }
   ],
   "source": [
    "for key, value in x.items():\n",
    "  print(f\"The data type of the value for key '{key}' is: {type(value)}\")"
   ]
  },
  {
   "cell_type": "code",
   "execution_count": 31,
   "id": "547c3634-4782-46e4-a971-96628d8b0b2e",
   "metadata": {},
   "outputs": [
    {
     "name": "stdout",
     "output_type": "stream",
     "text": [
      "\n",
      "Question 23: Create a dictionary with function values: {'len': len, 'str': str, 'int': int}\n"
     ]
    }
   ],
   "source": [
    "# Question 23: Create a dictionary with function values: {'len': len, 'str': str, 'int': int}\n",
    "print(\"\\nQuestion 23: Create a dictionary with function values: {'len': len, 'str': str, 'int': int}\")"
   ]
  },
  {
   "cell_type": "code",
   "execution_count": 32,
   "id": "b2894ff5-9c62-41f8-9209-50b7f67f93c8",
   "metadata": {},
   "outputs": [],
   "source": [
    "x= {'len': len, 'str': str, 'int': int}"
   ]
  },
  {
   "cell_type": "code",
   "execution_count": 33,
   "id": "392efe41-9cd0-46ec-8b86-749f4918ae35",
   "metadata": {},
   "outputs": [
    {
     "name": "stdout",
     "output_type": "stream",
     "text": [
      "\n",
      "Question 24: Apply each function to '123' using dictionary\n"
     ]
    }
   ],
   "source": [
    "\n",
    "# Question 24: Apply each function to \"123\" using dictionary\n",
    "print(\"\\nQuestion 24: Apply each function to '123' using dictionary\")"
   ]
  },
  {
   "cell_type": "code",
   "execution_count": 35,
   "id": "5dd7ea75-b280-4898-b090-6909e025fb93",
   "metadata": {},
   "outputs": [
    {
     "name": "stdout",
     "output_type": "stream",
     "text": [
      "{'len': '123', 'str': '123', 'int': '123'}\n"
     ]
    }
   ],
   "source": [
    "x= {'len': len, 'str': str, 'int': int}\n",
    "x['len']='123'\n",
    "x['str']='123'\n",
    "x['int']='123'\n",
    "print(x)"
   ]
  },
  {
   "cell_type": "code",
   "execution_count": 36,
   "id": "121a8052-6a4d-4b8b-8c37-c6c67f92461f",
   "metadata": {},
   "outputs": [
    {
     "name": "stdout",
     "output_type": "stream",
     "text": [
      "\n",
      "Question 25: Create a dictionary with lambda functions: {'double': lambda x: x*2, 'square': lambda x: x**2}\n"
     ]
    }
   ],
   "source": [
    "# Question 25: Create a dictionary with lambda functions: {'double': lambda x: x*2, 'square': lambda x: x**2}\n",
    "print(\"\\nQuestion 25: Create a dictionary with lambda functions: {'double': lambda x: x*2, 'square': lambda x: x**2}\")"
   ]
  },
  {
   "cell_type": "code",
   "execution_count": 37,
   "id": "874ddbe9-17ba-4a0c-b130-566225dc8b85",
   "metadata": {},
   "outputs": [],
   "source": [
    "x= {'double': lambda x: x*2, 'square': lambda x: x**2}"
   ]
  },
  {
   "cell_type": "code",
   "execution_count": 38,
   "id": "712d2b8b-887b-4746-9195-c85947023be0",
   "metadata": {},
   "outputs": [
    {
     "name": "stdout",
     "output_type": "stream",
     "text": [
      "{'double': <function <lambda> at 0x00000161850BBBA0>, 'square': <function <lambda> at 0x00000161850BBE20>}\n"
     ]
    }
   ],
   "source": [
    "print(x)"
   ]
  },
  {
   "cell_type": "code",
   "execution_count": null,
   "id": "b4708b08-2501-4bb9-b025-022c2661b7ea",
   "metadata": {},
   "outputs": [],
   "source": []
  }
 ],
 "metadata": {
  "kernelspec": {
   "display_name": "Python 3 (ipykernel)",
   "language": "python",
   "name": "python3"
  },
  "language_info": {
   "codemirror_mode": {
    "name": "ipython",
    "version": 3
   },
   "file_extension": ".py",
   "mimetype": "text/x-python",
   "name": "python",
   "nbconvert_exporter": "python",
   "pygments_lexer": "ipython3",
   "version": "3.13.5"
  }
 },
 "nbformat": 4,
 "nbformat_minor": 5
}
