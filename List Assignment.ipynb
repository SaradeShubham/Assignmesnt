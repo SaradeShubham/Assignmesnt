{
 "cells": [
  {
   "cell_type": "code",
   "execution_count": 1,
   "id": "f39f6954-de51-4a9d-9aa4-59061be068b8",
   "metadata": {},
   "outputs": [
    {
     "name": "stdout",
     "output_type": "stream",
     "text": [
      "Question 1: Create a list of first 10 square numbers\n"
     ]
    }
   ],
   "source": [
    "# Question 1: Create a list of first 10 square numbers\n",
    "print(\"Question 1: Create a list of first 10 square numbers\")"
   ]
  },
  {
   "cell_type": "code",
   "execution_count": 4,
   "id": "4a97888e-f51c-4323-ab4a-df57e739ede1",
   "metadata": {},
   "outputs": [
    {
     "name": "stdout",
     "output_type": "stream",
     "text": [
      "[1, 4, 9, 16, 25, 36, 49, 64, 81, 100]\n"
     ]
    }
   ],
   "source": [
    "square = [i**2 for i in range(1, 11)]\n",
    "print(square)"
   ]
  },
  {
   "cell_type": "code",
   "execution_count": 5,
   "id": "3fe6cb2d-1170-442e-8c71-1646729e881f",
   "metadata": {},
   "outputs": [
    {
     "name": "stdout",
     "output_type": "stream",
     "text": [
      "\n",
      "Question 2: Find the sum of all even numbers in [1, 2, 3, 4, 5, 6, 7, 8, 9, 10]\n"
     ]
    }
   ],
   "source": [
    "# Question 2: Find the sum of all even numbers in [1, 2, 3, 4, 5, 6, 7, 8, 9, 10]\n",
    "print(\"\\nQuestion 2: Find the sum of all even numbers in [1, 2, 3, 4, 5, 6, 7, 8, 9, 10]\")"
   ]
  },
  {
   "cell_type": "code",
   "execution_count": 9,
   "id": "68001a23-7aa5-4f33-b552-6340ce053f57",
   "metadata": {},
   "outputs": [
    {
     "name": "stdout",
     "output_type": "stream",
     "text": [
      "30\n"
     ]
    }
   ],
   "source": [
    "x=[1, 2, 3, 4, 5, 6, 7, 8, 9, 10]\n",
    "y=[num for num in x if num % 2 == 0]\n",
    "z=sum(y)\n",
    "print(z)"
   ]
  },
  {
   "cell_type": "code",
   "execution_count": 1,
   "id": "318e1711-abaa-4536-a119-e21124bbb406",
   "metadata": {},
   "outputs": [
    {
     "name": "stdout",
     "output_type": "stream",
     "text": [
      "\n",
      "Question 3: Remove duplicates from [1, 2, 2, 3, 4, 4, 5, 6, 6, 7]\n"
     ]
    }
   ],
   "source": [
    "# Question 3: Remove duplicates from [1, 2, 2, 3, 4, 4, 5, 6, 6, 7]\n",
    "print(\"\\nQuestion 3: Remove duplicates from [1, 2, 2, 3, 4, 4, 5, 6, 6, 7]\")"
   ]
  },
  {
   "cell_type": "code",
   "execution_count": 4,
   "id": "21b8495c-16fe-4d27-b57b-67afb5017553",
   "metadata": {},
   "outputs": [
    {
     "name": "stdout",
     "output_type": "stream",
     "text": [
      "[1, 2, 3, 4, 5, 6, 7]\n"
     ]
    }
   ],
   "source": [
    "x= [1, 2, 2, 3, 4, 4, 5, 6, 6, 7]\n",
    "y=list(set(x))\n",
    "print(y)"
   ]
  },
  {
   "cell_type": "code",
   "execution_count": 5,
   "id": "9ac2e2c5-f083-4573-b336-63b9c7d47829",
   "metadata": {},
   "outputs": [
    {
     "name": "stdout",
     "output_type": "stream",
     "text": [
      "\n",
      "Question 4: Sort the list [64, 34, 25, 12, 22, 11, 90] in descending order\n"
     ]
    }
   ],
   "source": [
    "\n",
    "# Question 4: Sort the list [64, 34, 25, 12, 22, 11, 90] in descending order\n",
    "print(\"\\nQuestion 4: Sort the list [64, 34, 25, 12, 22, 11, 90] in descending order\")"
   ]
  },
  {
   "cell_type": "code",
   "execution_count": 11,
   "id": "dffae127-b833-4499-b92a-d79b815062f7",
   "metadata": {},
   "outputs": [
    {
     "name": "stdout",
     "output_type": "stream",
     "text": [
      "[90, 64, 34, 25, 22, 12, 11]\n"
     ]
    }
   ],
   "source": [
    "x= [64, 34, 25, 12, 22, 11, 90]\n",
    "y=sorted(x, reverse=True)\n",
    "print(y)"
   ]
  },
  {
   "cell_type": "code",
   "execution_count": 12,
   "id": "8f4d88c9-0a31-4d38-a6e2-16853b5ea0dd",
   "metadata": {},
   "outputs": [
    {
     "name": "stdout",
     "output_type": "stream",
     "text": [
      "\n",
      "Question 5: Find the average of numbers in [15, 23, 31, 42, 56, 78, 91]\n"
     ]
    }
   ],
   "source": [
    "# Question 5: Find the average of numbers in [15, 23, 31, 42, 56, 78, 91]\n",
    "print(\"\\nQuestion 5: Find the average of numbers in [15, 23, 31, 42, 56, 78, 91]\")"
   ]
  },
  {
   "cell_type": "code",
   "execution_count": 15,
   "id": "04039a32-3c88-4e3c-837a-edf3cb41a910",
   "metadata": {},
   "outputs": [
    {
     "name": "stdout",
     "output_type": "stream",
     "text": [
      "48.0\n"
     ]
    }
   ],
   "source": [
    "x= [15, 23, 31, 42, 56, 78, 91]\n",
    "y=sum(x)/7\n",
    "print(y)"
   ]
  },
  {
   "cell_type": "code",
   "execution_count": 16,
   "id": "99753376-f258-4573-9abd-828b6dc9738c",
   "metadata": {},
   "outputs": [
    {
     "name": "stdout",
     "output_type": "stream",
     "text": [
      "\n",
      "Question 6: Create a list of first 15 Fibonacci numbers\n"
     ]
    }
   ],
   "source": [
    "# Question 6: Create a list of first 15 Fibonacci numbers\n",
    "print(\"\\nQuestion 6: Create a list of first 15 Fibonacci numbers\")"
   ]
  },
  {
   "cell_type": "code",
   "execution_count": null,
   "id": "2880aaaa-025c-48b7-b79c-0938d7b3e0a3",
   "metadata": {},
   "outputs": [],
   "source": []
  },
  {
   "cell_type": "code",
   "execution_count": null,
   "id": "bb06fd97-ba0b-4560-a50d-39a7894e9490",
   "metadata": {},
   "outputs": [],
   "source": []
  },
  {
   "cell_type": "code",
   "execution_count": null,
   "id": "f1fed995-9471-4804-b5af-6bb5e3189075",
   "metadata": {},
   "outputs": [],
   "source": []
  },
  {
   "cell_type": "code",
   "execution_count": 17,
   "id": "f4aeb634-e944-492b-8786-3c607130226d",
   "metadata": {},
   "outputs": [
    {
     "name": "stdout",
     "output_type": "stream",
     "text": [
      "\n",
      "Question 7: Find the second largest number in [45, 67, 23, 89, 12, 34, 78]\n"
     ]
    }
   ],
   "source": [
    "\n",
    "# Question 7: Find the second largest number in [45, 67, 23, 89, 12, 34, 78]\n",
    "print(\"\\nQuestion 7: Find the second largest number in [45, 67, 23, 89, 12, 34, 78]\")"
   ]
  },
  {
   "cell_type": "code",
   "execution_count": 19,
   "id": "df5ffa58-9122-457b-9009-bef3c081a2e7",
   "metadata": {},
   "outputs": [
    {
     "name": "stdout",
     "output_type": "stream",
     "text": [
      "[89, 78, 67, 45, 34, 23, 12]\n"
     ]
    },
    {
     "data": {
      "text/plain": [
       "78"
      ]
     },
     "execution_count": 19,
     "metadata": {},
     "output_type": "execute_result"
    }
   ],
   "source": [
    "x=[45, 67, 23, 89, 12, 34, 78]\n",
    "y=sorted(x,reverse=True)\n",
    "print(y)\n",
    "y[1]"
   ]
  },
  {
   "cell_type": "code",
   "execution_count": 20,
   "id": "d5ec0af0-15ec-4b45-a1d6-dd605f5610c8",
   "metadata": {},
   "outputs": [
    {
     "name": "stdout",
     "output_type": "stream",
     "text": [
      "\n",
      "Question 8: Reverse the list [1, 2, 3, 4, 5, 6, 7, 8, 9, 10]\n"
     ]
    }
   ],
   "source": [
    "# Question 8: Reverse the list [1, 2, 3, 4, 5, 6, 7, 8, 9, 10]\n",
    "print(\"\\nQuestion 8: Reverse the list [1, 2, 3, 4, 5, 6, 7, 8, 9, 10]\")"
   ]
  },
  {
   "cell_type": "code",
   "execution_count": 25,
   "id": "19130fc6-0024-41c4-8b86-5724526a38f0",
   "metadata": {},
   "outputs": [
    {
     "name": "stdout",
     "output_type": "stream",
     "text": [
      "[10, 9, 8, 7, 6, 5, 4, 3, 2, 1]\n"
     ]
    }
   ],
   "source": [
    "x= [1, 2, 3, 4, 5, 6, 7, 8, 9, 10]\n",
    "x.reverse()\n",
    "print(x)"
   ]
  },
  {
   "cell_type": "code",
   "execution_count": 26,
   "id": "5a729f5b-7c42-464d-96a1-d6402456c753",
   "metadata": {},
   "outputs": [
    {
     "name": "stdout",
     "output_type": "stream",
     "text": [
      "\n",
      "Question 9: Count how many times 5 appears in [1, 5, 2, 5, 3, 5, 4, 5, 6]\n"
     ]
    }
   ],
   "source": [
    "# Question 9: Count how many times 5 appears in [1, 5, 2, 5, 3, 5, 4, 5, 6]\n",
    "print(\"\\nQuestion 9: Count how many times 5 appears in [1, 5, 2, 5, 3, 5, 4, 5, 6]\")"
   ]
  },
  {
   "cell_type": "code",
   "execution_count": 30,
   "id": "de9f1f27-f848-4625-b499-b068cef2829c",
   "metadata": {},
   "outputs": [
    {
     "data": {
      "text/plain": [
       "4"
      ]
     },
     "execution_count": 30,
     "metadata": {},
     "output_type": "execute_result"
    }
   ],
   "source": [
    "x= [1, 5, 2, 5, 3, 5, 4, 5, 6]\n",
    "x.count(5)\n"
   ]
  },
  {
   "cell_type": "code",
   "execution_count": 31,
   "id": "2b893a5e-b169-45d3-9f22-41dd56f07fcb",
   "metadata": {},
   "outputs": [
    {
     "name": "stdout",
     "output_type": "stream",
     "text": [
      "\n",
      "Question 10: Create a list of prime numbers between 1 and 50\n"
     ]
    }
   ],
   "source": [
    "# Question 10: Create a list of prime numbers between 1 and 50\n",
    "print(\"\\nQuestion 10: Create a list of prime numbers between 1 and 50\")"
   ]
  },
  {
   "cell_type": "code",
   "execution_count": null,
   "id": "4454a02d-306b-4eca-9a94-33b038c32a38",
   "metadata": {},
   "outputs": [],
   "source": []
  },
  {
   "cell_type": "code",
   "execution_count": null,
   "id": "c0bca3c1-48c6-4c98-a8db-89f582800c8f",
   "metadata": {},
   "outputs": [],
   "source": []
  },
  {
   "cell_type": "code",
   "execution_count": null,
   "id": "48e3c6f0-2f2d-4ec2-a122-6970816a9899",
   "metadata": {},
   "outputs": [],
   "source": []
  },
  {
   "cell_type": "code",
   "execution_count": 32,
   "id": "8b831208-d0fb-42bc-8909-1605734c0c77",
   "metadata": {},
   "outputs": [
    {
     "name": "stdout",
     "output_type": "stream",
     "text": [
      "\n",
      "Question 11: Flatten nested list [[1, 2, 3], [4, 5, 6], [7, 8, 9]]\n"
     ]
    }
   ],
   "source": [
    "# Question 11: Flatten nested list [[1, 2, 3], [4, 5, 6], [7, 8, 9]]\n",
    "print(\"\\nQuestion 11: Flatten nested list [[1, 2, 3], [4, 5, 6], [7, 8, 9]]\")"
   ]
  },
  {
   "cell_type": "code",
   "execution_count": 33,
   "id": "d6ef305f-8f40-426a-a2b7-e4c9134dfd4d",
   "metadata": {},
   "outputs": [
    {
     "data": {
      "text/plain": [
       "[1, 2, 3, 4, 5, 6, 7, 8, 9]"
      ]
     },
     "execution_count": 33,
     "metadata": {},
     "output_type": "execute_result"
    }
   ],
   "source": [
    "x=[[1, 2, 3], [4, 5, 6], [7, 8, 9]]\n",
    "sum(x,[])"
   ]
  },
  {
   "cell_type": "code",
   "execution_count": 34,
   "id": "b6b3fd94-17f2-4361-b9bf-689981d8994b",
   "metadata": {},
   "outputs": [
    {
     "name": "stdout",
     "output_type": "stream",
     "text": [
      "\n",
      "Question 12: Find common elements between [1, 2, 3, 4, 5] and [4, 5, 6, 7, 8]\n"
     ]
    }
   ],
   "source": [
    "# Question 12: Find common elements between [1, 2, 3, 4, 5] and [4, 5, 6, 7, 8]\n",
    "print(\"\\nQuestion 12: Find common elements between [1, 2, 3, 4, 5] and [4, 5, 6, 7, 8]\")"
   ]
  },
  {
   "cell_type": "code",
   "execution_count": 39,
   "id": "f1ad666d-2f15-4577-8ff8-a6442ad65d38",
   "metadata": {},
   "outputs": [
    {
     "name": "stdout",
     "output_type": "stream",
     "text": [
      "[4, 5]\n"
     ]
    }
   ],
   "source": [
    "x=[1,2,3,4,5]\n",
    "y=[4,5,6,7,8]\n",
    "x=set(x)\n",
    "y=set(y)\n",
    "\n",
    "z=list(x.intersection(y))\n",
    "print(z)"
   ]
  },
  {
   "cell_type": "code",
   "execution_count": 37,
   "id": "74f247ee-3035-4c6a-ba89-f1143b950b47",
   "metadata": {},
   "outputs": [
    {
     "name": "stdout",
     "output_type": "stream",
     "text": [
      "\n",
      "Question 13: Create a list of lists: [[1, 2], [3, 4], [5, 6]]\n"
     ]
    }
   ],
   "source": [
    "# Question 13: Create a list of lists: [[1, 2], [3, 4], [5, 6]]\n",
    "print(\"\\nQuestion 13: Create a list of lists: [[1, 2], [3, 4], [5, 6]]\")"
   ]
  },
  {
   "cell_type": "code",
   "execution_count": 40,
   "id": "a7e3c9d4-a531-4ab6-b85f-242eb5d658b2",
   "metadata": {},
   "outputs": [
    {
     "data": {
      "text/plain": [
       "[1, 2, 3, 4, 5, 6]"
      ]
     },
     "execution_count": 40,
     "metadata": {},
     "output_type": "execute_result"
    }
   ],
   "source": [
    "x=[[1, 2], [3, 4], [5, 6]]\n",
    "sum(x,[])"
   ]
  },
  {
   "cell_type": "code",
   "execution_count": 41,
   "id": "4103690e-56a6-43c5-be0d-ba4ecdc1ca76",
   "metadata": {},
   "outputs": [
    {
     "name": "stdout",
     "output_type": "stream",
     "text": [
      "\n",
      "Question 14: Find the sum of each sublist in [[1, 2, 3], [4, 5, 6], [7, 8, 9]]\n"
     ]
    }
   ],
   "source": [
    "# Question 14: Find the sum of each sublist in [[1, 2, 3], [4, 5, 6], [7, 8, 9]]\n",
    "\n",
    "print(\"\\nQuestion 14: Find the sum of each sublist in [[1, 2, 3], [4, 5, 6], [7, 8, 9]]\")"
   ]
  },
  {
   "cell_type": "code",
   "execution_count": 48,
   "id": "4cf0199d-fbcf-43e0-a9e4-4a51a3551567",
   "metadata": {},
   "outputs": [
    {
     "name": "stdout",
     "output_type": "stream",
     "text": [
      "[6, 15, 24]\n"
     ]
    }
   ],
   "source": [
    "x=[[1, 2, 3], [4, 5, 6], [7, 8, 9]]\n",
    "y=[sum(sublist)for sublist in x]\n",
    "print(y)"
   ]
  },
  {
   "cell_type": "code",
   "execution_count": 49,
   "id": "88253e18-b11f-4f86-8ce1-268b50364d75",
   "metadata": {},
   "outputs": [
    {
     "name": "stdout",
     "output_type": "stream",
     "text": [
      "\n",
      "Question 15: Transpose the matrix [[1, 2, 3], [4, 5, 6], [7, 8, 9]]\n"
     ]
    }
   ],
   "source": [
    "# Question 15: Transpose the matrix [[1, 2, 3], [4, 5, 6], [7, 8, 9]]\n",
    "print(\"\\nQuestion 15: Transpose the matrix [[1, 2, 3], [4, 5, 6], [7, 8, 9]]\")"
   ]
  },
  {
   "cell_type": "code",
   "execution_count": null,
   "id": "ce997b55-0575-471e-99b6-ccd867f1a834",
   "metadata": {},
   "outputs": [],
   "source": []
  },
  {
   "cell_type": "code",
   "execution_count": null,
   "id": "9c7e7507-2e53-4d03-908c-93a712468342",
   "metadata": {},
   "outputs": [],
   "source": []
  },
  {
   "cell_type": "code",
   "execution_count": null,
   "id": "efac1459-24e8-4076-9600-91fabe5fe450",
   "metadata": {},
   "outputs": [],
   "source": []
  },
  {
   "cell_type": "code",
   "execution_count": null,
   "id": "e189045e-5799-496f-bf05-453f508e4f8f",
   "metadata": {},
   "outputs": [],
   "source": []
  },
  {
   "cell_type": "code",
   "execution_count": 50,
   "id": "275e34d2-13dd-4f46-abe2-daca995f486c",
   "metadata": {},
   "outputs": [
    {
     "name": "stdout",
     "output_type": "stream",
     "text": [
      "\n",
      "Question 16: Find the maximum value in each sublist of [[1, 5, 3], [9, 2, 7], [4, 8, 6]]\n"
     ]
    }
   ],
   "source": [
    "# Question 16: Find the maximum value in each sublist of [[1, 5, 3], [9, 2, 7], [4, 8, 6]]\n",
    "print(\"\\nQuestion 16: Find the maximum value in each sublist of [[1, 5, 3], [9, 2, 7], [4, 8, 6]]\")"
   ]
  },
  {
   "cell_type": "code",
   "execution_count": 52,
   "id": "e481d2f0-2cb4-4a31-ba72-902134d2596a",
   "metadata": {},
   "outputs": [
    {
     "name": "stdout",
     "output_type": "stream",
     "text": [
      "[5, 9, 8]\n"
     ]
    }
   ],
   "source": [
    "x= [[1, 5, 3], [9, 2, 7], [4, 8, 6]]\n",
    "y=[max(sublist)for sublist in x]\n",
    "print(y)"
   ]
  },
  {
   "cell_type": "code",
   "execution_count": 53,
   "id": "c9ca181f-32a4-42a5-a49d-56ddb772e6bd",
   "metadata": {},
   "outputs": [
    {
     "name": "stdout",
     "output_type": "stream",
     "text": [
      "\n",
      "Question 17: Create a 3D list: [[[1, 2], [3, 4]], [[5, 6], [7, 8]]]\n"
     ]
    }
   ],
   "source": [
    "# Question 17: Create a 3D list: [[[1, 2], [3, 4]], [[5, 6], [7, 8]]]\n",
    "print(\"\\nQuestion 17: Create a 3D list: [[[1, 2], [3, 4]], [[5, 6], [7, 8]]]\")"
   ]
  },
  {
   "cell_type": "code",
   "execution_count": null,
   "id": "163bcd07-19cf-4223-ab71-d6ede182737e",
   "metadata": {},
   "outputs": [],
   "source": []
  },
  {
   "cell_type": "code",
   "execution_count": null,
   "id": "55a68772-6d09-4605-8e51-6a6975b05791",
   "metadata": {},
   "outputs": [],
   "source": []
  },
  {
   "cell_type": "code",
   "execution_count": null,
   "id": "9f2f8415-9c05-44d4-a879-6806cdff78a7",
   "metadata": {},
   "outputs": [],
   "source": []
  },
  {
   "cell_type": "code",
   "execution_count": 54,
   "id": "4259aa43-8fb9-4d55-9384-f9db9e9ff1d1",
   "metadata": {},
   "outputs": [
    {
     "name": "stdout",
     "output_type": "stream",
     "text": [
      "\n",
      "Question 18: Find the sum of all elements in 3D list [[[1, 2], [3, 4]], [[5, 6], [7, 8]]]\n"
     ]
    }
   ],
   "source": [
    "# Question 18: Find the sum of all elements in 3D list [[[1, 2], [3, 4]], [[5, 6], [7, 8]]]\n",
    "print(\"\\nQuestion 18: Find the sum of all elements in 3D list [[[1, 2], [3, 4]], [[5, 6], [7, 8]]]\")"
   ]
  },
  {
   "cell_type": "code",
   "execution_count": null,
   "id": "38238658-df12-4f64-a6aa-7ea7fd47aba3",
   "metadata": {},
   "outputs": [],
   "source": []
  },
  {
   "cell_type": "code",
   "execution_count": null,
   "id": "e461ffa1-34b2-4e91-b38a-fc28d3baa518",
   "metadata": {},
   "outputs": [],
   "source": []
  },
  {
   "cell_type": "code",
   "execution_count": null,
   "id": "0332b8b9-42aa-4cfc-a00e-b459283c5898",
   "metadata": {},
   "outputs": [],
   "source": []
  },
  {
   "cell_type": "code",
   "execution_count": 55,
   "id": "beb934e4-ccdd-40eb-87f2-f186e2bc5fa2",
   "metadata": {},
   "outputs": [
    {
     "name": "stdout",
     "output_type": "stream",
     "text": [
      "\n",
      "Question 19: Extract all even numbers from nested list [[1, 2, 3], [4, 5, 6], [7, 8, 9]]\n"
     ]
    }
   ],
   "source": [
    "# Question 19: Extract all even numbers from nested list [[1, 2, 3], [4, 5, 6], [7, 8, 9]]\n",
    "print(\"\\nQuestion 19: Extract all even numbers from nested list [[1, 2, 3], [4, 5, 6], [7, 8, 9]]\")"
   ]
  },
  {
   "cell_type": "code",
   "execution_count": 57,
   "id": "5ff73e74-52bb-49da-923f-715fda70338f",
   "metadata": {},
   "outputs": [
    {
     "name": "stdout",
     "output_type": "stream",
     "text": [
      "[2, 4, 6, 8]\n"
     ]
    }
   ],
   "source": [
    "x=[[1, 2, 3], [4, 5, 6], [7, 8, 9]]\n",
    "y=[num for sublist in x for num in sublist if num % 2==0]\n",
    "print(y)"
   ]
  },
  {
   "cell_type": "code",
   "execution_count": 58,
   "id": "cfe561c0-2cd6-459b-a7fd-47e95c158edb",
   "metadata": {},
   "outputs": [
    {
     "name": "stdout",
     "output_type": "stream",
     "text": [
      "\n",
      "Question 20: Create a list of mixed data types: [1, 'hello', 3.14, True, [1, 2, 3]]\n"
     ]
    }
   ],
   "source": [
    "# Question 20: Create a list of mixed data types: [1, \"hello\", 3.14, True, [1, 2, 3]]\n",
    "print(\"\\nQuestion 20: Create a list of mixed data types: [1, 'hello', 3.14, True, [1, 2, 3]]\")"
   ]
  },
  {
   "cell_type": "code",
   "execution_count": 61,
   "id": "a3d2de30-a66b-4e5e-a289-a3547f1fb01e",
   "metadata": {},
   "outputs": [
    {
     "name": "stdout",
     "output_type": "stream",
     "text": [
      "(<class 'int'>, <class 'str'>, <class 'float'>, <class 'bool'>, <class 'list'>)\n"
     ]
    }
   ],
   "source": [
    "x= [1, 'hello', 3.14, True, [1, 2, 3]]\n",
    "y=type(x[0]),type(x[1]),type(x[2]),type(x[3]),type(x[4])\n",
    "print(y)"
   ]
  },
  {
   "cell_type": "code",
   "execution_count": 62,
   "id": "8245e6a1-c026-4979-a558-fcef89e3b140",
   "metadata": {},
   "outputs": [
    {
     "name": "stdout",
     "output_type": "stream",
     "text": [
      "\n",
      "Question 21: Find the length of each string in ['apple', 'banana', 'cherry', 'date']\n"
     ]
    }
   ],
   "source": [
    "# Question 21: Find the length of each string in [\"apple\", \"banana\", \"cherry\", \"date\"]\n",
    "print(\"\\nQuestion 21: Find the length of each string in ['apple', 'banana', 'cherry', 'date']\")\n",
    "\n"
   ]
  },
  {
   "cell_type": "code",
   "execution_count": 64,
   "id": "a1f4d8fe-066b-4356-b2c1-90f2e0295a40",
   "metadata": {},
   "outputs": [
    {
     "data": {
      "text/plain": [
       "(5, 6, 6, 4)"
      ]
     },
     "execution_count": 64,
     "metadata": {},
     "output_type": "execute_result"
    }
   ],
   "source": [
    "x=['apple', 'banana', 'cherry', 'date']\n",
    "len(x[0]),len(x[1]),len(x[2]),len(x[3]),"
   ]
  },
  {
   "cell_type": "code",
   "execution_count": 65,
   "id": "2aa1aec6-ac19-4817-8997-90d6b62bd934",
   "metadata": {},
   "outputs": [
    {
     "name": "stdout",
     "output_type": "stream",
     "text": [
      "\n",
      "Question 22: Create a list of tuples: [(1, 'a'), (2, 'b'), (3, 'c')]\n"
     ]
    }
   ],
   "source": [
    "# Question 22: Create a list of tuples: [(1, 'a'), (2, 'b'), (3, 'c')]\n",
    "print(\"\\nQuestion 22: Create a list of tuples: [(1, 'a'), (2, 'b'), (3, 'c')]\")"
   ]
  },
  {
   "cell_type": "code",
   "execution_count": 66,
   "id": "b88d98c1-05f3-4046-9dcc-17350219d023",
   "metadata": {},
   "outputs": [
    {
     "name": "stdout",
     "output_type": "stream",
     "text": [
      "(<class 'tuple'>, <class 'tuple'>, <class 'tuple'>)\n"
     ]
    }
   ],
   "source": [
    "x=[(1, 'a'), (2, 'b'), (3, 'c')]\n",
    "y=type(x[0]),type(x[1]),type(x[2])\n",
    "print(y)"
   ]
  },
  {
   "cell_type": "code",
   "execution_count": 67,
   "id": "5a5e183b-4ffc-46f5-b8d4-727503126ca3",
   "metadata": {},
   "outputs": [
    {
     "name": "stdout",
     "output_type": "stream",
     "text": [
      "\n",
      "Question 23: Extract first element from each tuple in [(1, 'a'), (2, 'b'), (3, 'c')]\n"
     ]
    }
   ],
   "source": [
    "# Question 23: Extract first element from each tuple in [(1, 'a'), (2, 'b'), (3, 'c')]\n",
    "print(\"\\nQuestion 23: Extract first element from each tuple in [(1, 'a'), (2, 'b'), (3, 'c')]\")"
   ]
  },
  {
   "cell_type": "code",
   "execution_count": 73,
   "id": "6f36fcbf-1d94-4442-a9a4-07ee6c60aa40",
   "metadata": {},
   "outputs": [
    {
     "name": "stdout",
     "output_type": "stream",
     "text": [
      "[1, 2, 3]\n"
     ]
    }
   ],
   "source": [
    "x=[(1, 'a'), (2, 'b'), (3, 'c')]\n",
    "y=[item[0]for item in x]\n",
    "print(y)"
   ]
  },
  {
   "cell_type": "code",
   "execution_count": 74,
   "id": "cc6905cd-3660-42bd-9c74-f02768c1d1be",
   "metadata": {},
   "outputs": [
    {
     "name": "stdout",
     "output_type": "stream",
     "text": [
      "\n",
      "Question 24: Create a list of dictionaries: [{'name': 'Alice', 'age': 25}, {'name': 'Bob', 'age': 30}]\n"
     ]
    }
   ],
   "source": [
    "# Question 24: Create a list of dictionaries: [{'name': 'Alice', 'age': 25}, {'name': 'Bob', 'age': 30}]\n",
    "print(\"\\nQuestion 24: Create a list of dictionaries: [{'name': 'Alice', 'age': 25}, {'name': 'Bob', 'age': 30}]\")"
   ]
  },
  {
   "cell_type": "code",
   "execution_count": 75,
   "id": "966d0bc9-c2f6-4520-9287-bfc2a78924cc",
   "metadata": {},
   "outputs": [],
   "source": [
    "x= [{'name': 'Alice', 'age': 25}, {'name': 'Bob', 'age': 30}]\n"
   ]
  },
  {
   "cell_type": "code",
   "execution_count": null,
   "id": "bc5977f0-9b6b-476d-844d-bfe3eb14b416",
   "metadata": {},
   "outputs": [],
   "source": []
  },
  {
   "cell_type": "code",
   "execution_count": null,
   "id": "958637a5-31c7-472b-9918-0081c47e6509",
   "metadata": {},
   "outputs": [],
   "source": []
  },
  {
   "cell_type": "code",
   "execution_count": 76,
   "id": "a54e87c9-ff97-4c8f-b0a1-f7258b34cd14",
   "metadata": {},
   "outputs": [
    {
     "name": "stdout",
     "output_type": "stream",
     "text": [
      "\n",
      "Question 25: Extract all 'name' values from list of dictionaries\n"
     ]
    }
   ],
   "source": [
    "# Question 25: Extract all 'name' values from list of dictionaries\n",
    "print(\"\\nQuestion 25: Extract all 'name' values from list of dictionaries\")"
   ]
  },
  {
   "cell_type": "code",
   "execution_count": 82,
   "id": "14b1c54f-b3f0-4548-823b-509b9aab2497",
   "metadata": {},
   "outputs": [
    {
     "name": "stdout",
     "output_type": "stream",
     "text": [
      "['Alice', 'Bob']\n"
     ]
    }
   ],
   "source": [
    "x= [{'name': 'Alice', 'age': 25}, {'name': 'Bob', 'age': 30}]\n",
    "y=[d['name']for d in x]\n",
    "print(y)"
   ]
  },
  {
   "cell_type": "code",
   "execution_count": null,
   "id": "01b3cbd2-bd3e-432d-a33c-ae2af25522c2",
   "metadata": {},
   "outputs": [],
   "source": []
  },
  {
   "cell_type": "code",
   "execution_count": null,
   "id": "2c90c941-a70a-463d-99c0-3004a6273f5c",
   "metadata": {},
   "outputs": [],
   "source": []
  },
  {
   "cell_type": "code",
   "execution_count": null,
   "id": "4201e0ce-5876-4e4f-99ea-d75e2335c671",
   "metadata": {},
   "outputs": [],
   "source": []
  },
  {
   "cell_type": "code",
   "execution_count": null,
   "id": "0dc6bdfa-1b88-4969-813f-d37b72b433fb",
   "metadata": {},
   "outputs": [],
   "source": []
  },
  {
   "cell_type": "code",
   "execution_count": null,
   "id": "b011227e-2565-4d45-a445-fd93ad89a2da",
   "metadata": {},
   "outputs": [],
   "source": []
  },
  {
   "cell_type": "code",
   "execution_count": null,
   "id": "91db6499-37eb-41c8-9d5d-54e25972017b",
   "metadata": {},
   "outputs": [],
   "source": []
  },
  {
   "cell_type": "code",
   "execution_count": null,
   "id": "a124e935-04f3-4c05-8243-79e257b65c1a",
   "metadata": {},
   "outputs": [],
   "source": []
  },
  {
   "cell_type": "code",
   "execution_count": null,
   "id": "5ebf83fd-c400-43fe-a18f-cbd85961f2b5",
   "metadata": {},
   "outputs": [],
   "source": []
  },
  {
   "cell_type": "code",
   "execution_count": null,
   "id": "288f0127-4e81-4337-8b98-f00868955da1",
   "metadata": {},
   "outputs": [],
   "source": []
  },
  {
   "cell_type": "code",
   "execution_count": 83,
   "id": "40dd1c7e-f8e6-4e08-9561-fef7d3abd4e8",
   "metadata": {},
   "outputs": [
    {
     "name": "stdout",
     "output_type": "stream",
     "text": [
      "\n",
      "Question 29: Create a list of sets: [{1, 2, 3}, {4, 5, 6}, {7, 8, 9}]\n"
     ]
    }
   ],
   "source": [
    "# Question 29: Create a list of sets: [{1, 2, 3}, {4, 5, 6}, {7, 8, 9}]\n",
    "print(\"\\nQuestion 29: Create a list of sets: [{1, 2, 3}, {4, 5, 6}, {7, 8, 9}]\")"
   ]
  },
  {
   "cell_type": "code",
   "execution_count": null,
   "id": "fe092c09-ab38-494e-9d07-0cef4a50e623",
   "metadata": {},
   "outputs": [],
   "source": []
  },
  {
   "cell_type": "code",
   "execution_count": null,
   "id": "6a75fc21-940e-4b03-b0a0-f99388b240ec",
   "metadata": {},
   "outputs": [],
   "source": []
  },
  {
   "cell_type": "code",
   "execution_count": null,
   "id": "a333cf71-c66f-4838-8c9a-8d05facff294",
   "metadata": {},
   "outputs": [],
   "source": []
  },
  {
   "cell_type": "code",
   "execution_count": null,
   "id": "ba198d26-ad3d-4f28-b2ca-b3fab3a2428a",
   "metadata": {},
   "outputs": [],
   "source": []
  },
  {
   "cell_type": "code",
   "execution_count": 84,
   "id": "433865ed-0750-48b6-8511-78cf1d0e3505",
   "metadata": {},
   "outputs": [
    {
     "name": "stdout",
     "output_type": "stream",
     "text": [
      "\n",
      "Question 30: Find the union of all sets in list of sets\n"
     ]
    }
   ],
   "source": [
    "# Question 30: Find the union of all sets in list of sets\n",
    "print(\"\\nQuestion 30: Find the union of all sets in list of sets\")"
   ]
  },
  {
   "cell_type": "code",
   "execution_count": 86,
   "id": "6360dfd2-3ca3-44ed-9728-21eb9c1cfa19",
   "metadata": {},
   "outputs": [
    {
     "name": "stdout",
     "output_type": "stream",
     "text": [
      "{1, 2, 3, 4, 5, 6, 7, 8, 9}\n"
     ]
    }
   ],
   "source": [
    "x= [{1, 2, 3}, {4, 5, 6}, {7, 8, 9}]\n",
    "y=set().union(*x)\n",
    "print(y)"
   ]
  },
  {
   "cell_type": "code",
   "execution_count": null,
   "id": "004e982e-5a2c-4840-84f0-b172a088c9bb",
   "metadata": {},
   "outputs": [],
   "source": []
  },
  {
   "cell_type": "code",
   "execution_count": null,
   "id": "8aa68f28-94a6-4db0-b03c-a47636889bf8",
   "metadata": {},
   "outputs": [],
   "source": []
  },
  {
   "cell_type": "code",
   "execution_count": null,
   "id": "a6a68316-9e84-4ead-abf8-42978a22e373",
   "metadata": {},
   "outputs": [],
   "source": []
  },
  {
   "cell_type": "code",
   "execution_count": null,
   "id": "3c8004bb-6567-40ce-a1d6-6fac9b460e71",
   "metadata": {},
   "outputs": [],
   "source": []
  },
  {
   "cell_type": "code",
   "execution_count": 87,
   "id": "08fc846c-ddf4-4319-ba1a-fd8cd0777e94",
   "metadata": {},
   "outputs": [
    {
     "name": "stdout",
     "output_type": "stream",
     "text": [
      "\n",
      "Question 34: Count the depth of nesting in [1, [2, 3], [4, [5, 6]], 7]\n"
     ]
    }
   ],
   "source": [
    "# Question 34: Count the depth of nesting in [1, [2, 3], [4, [5, 6]], 7]\n",
    "print(\"\\nQuestion 34: Count the depth of nesting in [1, [2, 3], [4, [5, 6]], 7]\")"
   ]
  },
  {
   "cell_type": "code",
   "execution_count": null,
   "id": "ebee19e9-0174-4835-a078-041c4a65a803",
   "metadata": {},
   "outputs": [],
   "source": []
  },
  {
   "cell_type": "code",
   "execution_count": null,
   "id": "b980f086-a751-41b6-8579-ce996bc6edbe",
   "metadata": {},
   "outputs": [],
   "source": []
  },
  {
   "cell_type": "code",
   "execution_count": null,
   "id": "ff9192df-733e-41f5-bfda-71142c79c5f0",
   "metadata": {},
   "outputs": [],
   "source": []
  },
  {
   "cell_type": "code",
   "execution_count": 88,
   "id": "1a489104-c407-4900-84a5-742fadbc8e30",
   "metadata": {},
   "outputs": [
    {
     "name": "stdout",
     "output_type": "stream",
     "text": [
      "\n",
      "Question 35: Create a list of functions: [len, str, int, float]\n"
     ]
    }
   ],
   "source": [
    "# Question 35: Create a list of functions: [len, str, int, float]\n",
    "print(\"\\nQuestion 35: Create a list of functions: [len, str, int, float]\")\n"
   ]
  },
  {
   "cell_type": "code",
   "execution_count": null,
   "id": "4b15cb65-40f7-4ca2-8b68-4d7613d5a53a",
   "metadata": {},
   "outputs": [],
   "source": []
  },
  {
   "cell_type": "code",
   "execution_count": null,
   "id": "54e91688-8c70-477a-9666-3f627caf2757",
   "metadata": {},
   "outputs": [],
   "source": []
  },
  {
   "cell_type": "code",
   "execution_count": null,
   "id": "7c0f2e73-6ff6-4de1-9a76-279f1749e729",
   "metadata": {},
   "outputs": [],
   "source": []
  },
  {
   "cell_type": "code",
   "execution_count": 89,
   "id": "8baaa262-2945-46e5-9e8e-16426beafe33",
   "metadata": {},
   "outputs": [
    {
     "name": "stdout",
     "output_type": "stream",
     "text": [
      "\n",
      "Question 36: Apply each function in list to string '123'\n"
     ]
    }
   ],
   "source": [
    "# Question 36: Apply each function in list to string \"123\"\n",
    "print(\"\\nQuestion 36: Apply each function in list to string '123'\")"
   ]
  },
  {
   "cell_type": "code",
   "execution_count": null,
   "id": "03bf404a-1a17-483f-8d52-49bd00f7eab9",
   "metadata": {},
   "outputs": [],
   "source": []
  },
  {
   "cell_type": "code",
   "execution_count": null,
   "id": "2c365b5f-b4c7-418d-addf-d247a0537096",
   "metadata": {},
   "outputs": [],
   "source": []
  },
  {
   "cell_type": "code",
   "execution_count": null,
   "id": "30c3cde6-158a-495c-9c3c-e95aa385eb6a",
   "metadata": {},
   "outputs": [],
   "source": []
  },
  {
   "cell_type": "code",
   "execution_count": 90,
   "id": "944288ec-8555-41d1-b4df-5bd6beab1fc5",
   "metadata": {},
   "outputs": [
    {
     "name": "stdout",
     "output_type": "stream",
     "text": [
      "\n",
      "Question 37: Create a list of lambda functions: [lambda x: x*2, lambda x: x**2, lambda x: x+1]\n"
     ]
    }
   ],
   "source": [
    "# Question 37: Create a list of lambda functions: [lambda x: x*2, lambda x: x**2, lambda x: x+1]\n",
    "print(\"\\nQuestion 37: Create a list of lambda functions: [lambda x: x*2, lambda x: x**2, lambda x: x+1]\")"
   ]
  },
  {
   "cell_type": "code",
   "execution_count": null,
   "id": "af947051-3bcc-4c3d-bdf6-c6b022c3f9f5",
   "metadata": {},
   "outputs": [],
   "source": []
  },
  {
   "cell_type": "code",
   "execution_count": null,
   "id": "839a383d-ae1c-41d3-a41f-9e08f99ca2ce",
   "metadata": {},
   "outputs": [],
   "source": []
  },
  {
   "cell_type": "code",
   "execution_count": null,
   "id": "f7879ac3-0aee-45ed-ab5d-01489887a45c",
   "metadata": {},
   "outputs": [],
   "source": []
  },
  {
   "cell_type": "code",
   "execution_count": 91,
   "id": "f4a53c60-192b-40eb-a5b2-9da9d347675d",
   "metadata": {},
   "outputs": [
    {
     "name": "stdout",
     "output_type": "stream",
     "text": [
      "\n",
      "Question 38: Apply each lambda function to 5\n"
     ]
    }
   ],
   "source": [
    "# Question 38: Apply each lambda function to 5\n",
    "print(\"\\nQuestion 38: Apply each lambda function to 5\")"
   ]
  },
  {
   "cell_type": "code",
   "execution_count": null,
   "id": "d9bc3c72-7bb6-4e1d-952e-bd0b39bb2a83",
   "metadata": {},
   "outputs": [],
   "source": []
  },
  {
   "cell_type": "code",
   "execution_count": null,
   "id": "70d79b89-f8e0-4178-8575-369ba3d938ba",
   "metadata": {},
   "outputs": [],
   "source": []
  },
  {
   "cell_type": "code",
   "execution_count": null,
   "id": "820abb49-2cdd-49d5-93a8-81cd3f7ae2b4",
   "metadata": {},
   "outputs": [],
   "source": []
  },
  {
   "cell_type": "code",
   "execution_count": null,
   "id": "f7c6015d-d485-4e6a-b861-ddd35cadf449",
   "metadata": {},
   "outputs": [],
   "source": []
  }
 ],
 "metadata": {
  "kernelspec": {
   "display_name": "Python 3 (ipykernel)",
   "language": "python",
   "name": "python3"
  },
  "language_info": {
   "codemirror_mode": {
    "name": "ipython",
    "version": 3
   },
   "file_extension": ".py",
   "mimetype": "text/x-python",
   "name": "python",
   "nbconvert_exporter": "python",
   "pygments_lexer": "ipython3",
   "version": "3.13.5"
  }
 },
 "nbformat": 4,
 "nbformat_minor": 5
}
