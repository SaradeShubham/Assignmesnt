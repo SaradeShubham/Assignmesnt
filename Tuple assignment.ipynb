{
 "cells": [
  {
   "cell_type": "code",
   "execution_count": 1,
   "id": "edcfeb79-f5df-46dd-af79-495c9f3bfc83",
   "metadata": {},
   "outputs": [
    {
     "name": "stdout",
     "output_type": "stream",
     "text": [
      "Question 1: Create a tuple of first 10 natural numbers\n"
     ]
    }
   ],
   "source": [
    "# Question 1: Create a tuple of first 10 natural numbers\n",
    "\n",
    "print(\"Question 1: Create a tuple of first 10 natural numbers\")"
   ]
  },
  {
   "cell_type": "code",
   "execution_count": 3,
   "id": "ea2de786-fee4-4cf5-ae9e-4baf0e750e9c",
   "metadata": {},
   "outputs": [],
   "source": [
    "x=(1,2,3,4,5,6,7,8,9,10)"
   ]
  },
  {
   "cell_type": "code",
   "execution_count": 4,
   "id": "b08fdc47-625e-4193-8ef7-71e37279b8ba",
   "metadata": {},
   "outputs": [
    {
     "data": {
      "text/plain": [
       "tuple"
      ]
     },
     "execution_count": 4,
     "metadata": {},
     "output_type": "execute_result"
    }
   ],
   "source": [
    "type(x)"
   ]
  },
  {
   "cell_type": "code",
   "execution_count": 5,
   "id": "78994d28-db7a-45d8-92c2-d269af526eb2",
   "metadata": {},
   "outputs": [
    {
     "name": "stdout",
     "output_type": "stream",
     "text": [
      "\n",
      "Question 2: Find the length of tuple (1, 2, 3, 4, 5, 6, 7, 8, 9, 10)\n"
     ]
    }
   ],
   "source": [
    "# Question 2: Find the length of tuple (1, 2, 3, 4, 5, 6, 7, 8, 9, 10)\n",
    "print(\"\\nQuestion 2: Find the length of tuple (1, 2, 3, 4, 5, 6, 7, 8, 9, 10)\")"
   ]
  },
  {
   "cell_type": "code",
   "execution_count": 6,
   "id": "4aaac903-82c8-4755-bff6-c416288b2dad",
   "metadata": {},
   "outputs": [
    {
     "data": {
      "text/plain": [
       "10"
      ]
     },
     "execution_count": 6,
     "metadata": {},
     "output_type": "execute_result"
    }
   ],
   "source": [
    "x= (1, 2, 3, 4, 5, 6, 7, 8, 9, 10)\n",
    "len(x)"
   ]
  },
  {
   "cell_type": "code",
   "execution_count": 8,
   "id": "7dadde95-697f-4aa1-ba44-e3c47b7a398c",
   "metadata": {},
   "outputs": [
    {
     "name": "stdout",
     "output_type": "stream",
     "text": [
      "\n",
      "Question 3: Access the 3rd element from tuple ('a', 'b', 'c', 'd', 'e')\n"
     ]
    }
   ],
   "source": [
    "# Question 3: Access the 3rd element from tuple ('a', 'b', 'c', 'd', 'e')\n",
    "print(\"\\nQuestion 3: Access the 3rd element from tuple ('a', 'b', 'c', 'd', 'e')\")"
   ]
  },
  {
   "cell_type": "code",
   "execution_count": 9,
   "id": "e2c43df7-900e-4a77-ba38-762e233a87ef",
   "metadata": {},
   "outputs": [
    {
     "data": {
      "text/plain": [
       "'c'"
      ]
     },
     "execution_count": 9,
     "metadata": {},
     "output_type": "execute_result"
    }
   ],
   "source": [
    "x= ('a', 'b', 'c', 'd', 'e')\n",
    "x[2]"
   ]
  },
  {
   "cell_type": "code",
   "execution_count": 10,
   "id": "14e02ab7-197e-4763-a6ae-185e866a73ea",
   "metadata": {},
   "outputs": [
    {
     "name": "stdout",
     "output_type": "stream",
     "text": [
      "\n",
      "Question 4: Find the maximum value in tuple (23, 45, 12, 67, 34, 89, 56)\n"
     ]
    }
   ],
   "source": [
    "# Question 4: Find the maximum value in tuple (23, 45, 12, 67, 34, 89, 56)\n",
    "print(\"\\nQuestion 4: Find the maximum value in tuple (23, 45, 12, 67, 34, 89, 56)\")"
   ]
  },
  {
   "cell_type": "code",
   "execution_count": 12,
   "id": "cfa7a846-c4e4-4fca-b542-b8e15419f061",
   "metadata": {},
   "outputs": [
    {
     "name": "stdout",
     "output_type": "stream",
     "text": [
      "89\n"
     ]
    }
   ],
   "source": [
    "x=(23, 45, 12, 67, 34, 89, 56)\n",
    "y=max(x)\n",
    "print(y)"
   ]
  },
  {
   "cell_type": "code",
   "execution_count": 13,
   "id": "6ec07566-5607-49f4-ba70-5844e3c6146b",
   "metadata": {},
   "outputs": [
    {
     "name": "stdout",
     "output_type": "stream",
     "text": [
      "\n",
      "Question 5: Count how many times 5 appears in (1, 5, 2, 5, 3, 5, 4, 5, 6)\n"
     ]
    }
   ],
   "source": [
    "# Question 5: Count how many times 5 appears in (1, 5, 2, 5, 3, 5, 4, 5, 6)\n",
    "print(\"\\nQuestion 5: Count how many times 5 appears in (1, 5, 2, 5, 3, 5, 4, 5, 6)\")"
   ]
  },
  {
   "cell_type": "code",
   "execution_count": 15,
   "id": "aa27924d-b72d-4813-a002-b03f54e4fa6b",
   "metadata": {},
   "outputs": [
    {
     "name": "stdout",
     "output_type": "stream",
     "text": [
      "4\n"
     ]
    }
   ],
   "source": [
    "x= (1, 5, 2, 5, 3, 5, 4, 5, 6)\n",
    "y=x.count(5)\n",
    "print(y)"
   ]
  },
  {
   "cell_type": "code",
   "execution_count": 16,
   "id": "267a9cb2-69bb-4d62-9216-9e679617517d",
   "metadata": {},
   "outputs": [
    {
     "name": "stdout",
     "output_type": "stream",
     "text": [
      "\n",
      "Question 6: Create a tuple of mixed data types (integer, float, string, boolean)\n"
     ]
    }
   ],
   "source": [
    "# Question 6: Create a tuple of mixed data types (integer, float, string, boolean)\n",
    "print(\"\\nQuestion 6: Create a tuple of mixed data types (integer, float, string, boolean)\")"
   ]
  },
  {
   "cell_type": "code",
   "execution_count": 21,
   "id": "8f3bb8d4-a114-43d2-a78a-6ff119735a6a",
   "metadata": {},
   "outputs": [
    {
     "name": "stdout",
     "output_type": "stream",
     "text": [
      "(<class 'int'>, <class 'float'>, <class 'str'>, <class 'bool'>)\n"
     ]
    }
   ],
   "source": [
    "x=(123,22.345,\"abcd\",True)\n",
    "y=type(x[0]),type(x[1]),type(x[2]),type(x[3])\n",
    "print(y)"
   ]
  },
  {
   "cell_type": "code",
   "execution_count": 22,
   "id": "5c4f3e3f-6199-4545-a947-689e1095ffac",
   "metadata": {},
   "outputs": [
    {
     "name": "stdout",
     "output_type": "stream",
     "text": [
      "\n",
      "Question 7: Find the index of element 'python' in ('java', 'python', 'c++', 'javascript')\n"
     ]
    }
   ],
   "source": [
    "# Question 7: Find the index of element 'python' in ('java', 'python', 'c++', 'javascript')\n",
    "print(\"\\nQuestion 7: Find the index of element 'python' in ('java', 'python', 'c++', 'javascript')\")"
   ]
  },
  {
   "cell_type": "code",
   "execution_count": 26,
   "id": "50d2e579-f42d-4e93-96a0-f339edafebcb",
   "metadata": {},
   "outputs": [
    {
     "data": {
      "text/plain": [
       "1"
      ]
     },
     "execution_count": 26,
     "metadata": {},
     "output_type": "execute_result"
    }
   ],
   "source": [
    "x=('java', 'python', 'c++', 'javascript')\n",
    "x.index('python')"
   ]
  },
  {
   "cell_type": "code",
   "execution_count": 27,
   "id": "46d15b6f-97e4-4375-b59f-10fd712fb93b",
   "metadata": {},
   "outputs": [
    {
     "name": "stdout",
     "output_type": "stream",
     "text": [
      "\n",
      "Question 8: Check if 25 exists in tuple (10, 20, 30, 40, 50)\n"
     ]
    }
   ],
   "source": [
    "# Question 8: Check if 25 exists in tuple (10, 20, 30, 40, 50)\n",
    "print(\"\\nQuestion 8: Check if 25 exists in tuple (10, 20, 30, 40, 50)\")"
   ]
  },
  {
   "cell_type": "code",
   "execution_count": 29,
   "id": "fe6e66a9-be11-4809-9a90-d1a241c69bca",
   "metadata": {},
   "outputs": [
    {
     "name": "stdout",
     "output_type": "stream",
     "text": [
      "25 does not exist .\n"
     ]
    }
   ],
   "source": [
    "x= (10, 20, 30, 40, 50)\n",
    "y = 25\n",
    "\n",
    "if y in x:\n",
    "  print(f\"{y} exists.\")\n",
    "else:\n",
    "  print(f\"{y} does not exist .\")"
   ]
  },
  {
   "cell_type": "code",
   "execution_count": 30,
   "id": "f7630603-566a-49a8-aae8-3fa92abf2102",
   "metadata": {},
   "outputs": [
    {
     "name": "stdout",
     "output_type": "stream",
     "text": [
      "\n",
      "Question 9: Create a tuple of first 5 even numbers\n"
     ]
    }
   ],
   "source": [
    "# Question 9: Create a tuple of first 5 even numbers\n",
    "print(\"\\nQuestion 9: Create a tuple of first 5 even numbers\")"
   ]
  },
  {
   "cell_type": "code",
   "execution_count": 31,
   "id": "b3e3475d-8cf7-4f97-a3c4-8983ad7c8a59",
   "metadata": {},
   "outputs": [
    {
     "data": {
      "text/plain": [
       "tuple"
      ]
     },
     "execution_count": 31,
     "metadata": {},
     "output_type": "execute_result"
    }
   ],
   "source": [
    "x=(2,4,6,8,10)\n",
    "type(x)"
   ]
  },
  {
   "cell_type": "code",
   "execution_count": 32,
   "id": "018e3449-50ea-46f8-bf28-8433bd83117b",
   "metadata": {},
   "outputs": [
    {
     "name": "stdout",
     "output_type": "stream",
     "text": [
      "\n",
      "Question 10: Find the average of numbers in tuple (15, 23, 31, 42, 56, 78)\n"
     ]
    }
   ],
   "source": [
    "# Question 10: Find the average of numbers in tuple (15, 23, 31, 42, 56, 78)\n",
    "print(\"\\nQuestion 10: Find the average of numbers in tuple (15, 23, 31, 42, 56, 78)\")"
   ]
  },
  {
   "cell_type": "code",
   "execution_count": 33,
   "id": "64045935-6c6b-451c-b920-575386a2a925",
   "metadata": {},
   "outputs": [
    {
     "data": {
      "text/plain": [
       "40.833333333333336"
      ]
     },
     "execution_count": 33,
     "metadata": {},
     "output_type": "execute_result"
    }
   ],
   "source": [
    "x=(15, 23, 31, 42, 56, 78)\n",
    "sum(x)/len(x)"
   ]
  },
  {
   "cell_type": "code",
   "execution_count": null,
   "id": "ae6223a0-e8d4-485e-9796-c7968ab5dca0",
   "metadata": {},
   "outputs": [],
   "source": []
  }
 ],
 "metadata": {
  "kernelspec": {
   "display_name": "Python 3 (ipykernel)",
   "language": "python",
   "name": "python3"
  },
  "language_info": {
   "codemirror_mode": {
    "name": "ipython",
    "version": 3
   },
   "file_extension": ".py",
   "mimetype": "text/x-python",
   "name": "python",
   "nbconvert_exporter": "python",
   "pygments_lexer": "ipython3",
   "version": "3.13.5"
  }
 },
 "nbformat": 4,
 "nbformat_minor": 5
}
