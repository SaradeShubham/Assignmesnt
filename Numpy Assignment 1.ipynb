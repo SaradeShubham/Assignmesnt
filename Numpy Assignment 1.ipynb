{
 "cells": [
  {
   "cell_type": "code",
   "execution_count": 10,
   "id": "1e1b4e87-5164-40b8-9c6d-a497d9bd0d48",
   "metadata": {},
   "outputs": [
    {
     "name": "stdout",
     "output_type": "stream",
     "text": [
      "Collecting numpy\n",
      "  Downloading numpy-2.3.2-cp313-cp313-win_amd64.whl.metadata (60 kB)\n",
      "Downloading numpy-2.3.2-cp313-cp313-win_amd64.whl (12.8 MB)\n",
      "   ---------------------------------------- 0.0/12.8 MB ? eta -:--:--\n",
      "   ------------------------- -------------- 8.1/12.8 MB 55.7 MB/s eta 0:00:01\n",
      "   ---------------------------------------- 12.8/12.8 MB 54.5 MB/s eta 0:00:00\n",
      "Installing collected packages: numpy\n",
      "Successfully installed numpy-2.3.2\n"
     ]
    },
    {
     "name": "stderr",
     "output_type": "stream",
     "text": [
      "\n",
      "[notice] A new release of pip is available: 25.1.1 -> 25.2\n",
      "[notice] To update, run: python.exe -m pip install --upgrade pip\n"
     ]
    }
   ],
   "source": [
    "!pip install numpy"
   ]
  },
  {
   "cell_type": "code",
   "execution_count": 7,
   "id": "3806b7c3-0fda-4212-a768-6dfb3a5aa919",
   "metadata": {},
   "outputs": [],
   "source": [
    "import numpy as np"
   ]
  },
  {
   "cell_type": "code",
   "execution_count": 8,
   "id": "1b12dc0c-f585-41d7-92a7-4b0aed95c092",
   "metadata": {},
   "outputs": [],
   "source": [
    "x=np.array([[    1, 25000,   300,  1200,    10],\n",
    "       [    2, 32000,   450,  1500,    15],\n",
    "       [    3, 28000,   380,  1100,     8],\n",
    "       [    4, 41000,   500,  1600,    20],\n",
    "       [    5, 35000,   420,  1400,    12],\n",
    "       [    6, 27000,   360,  1300,     9],\n",
    "       [    7, 39000,   480,  1700,    18],\n",
    "       [    8, 30000,   400,  1250,    14],\n",
    "       [    9, 45000,   550,  1800,    25],\n",
    "       [   10, 33000,   410,  1450,    11]])"
   ]
  },
  {
   "cell_type": "code",
   "execution_count": 30,
   "id": "076577b7-ce9a-4589-b2d7-910e20d59462",
   "metadata": {},
   "outputs": [
    {
     "name": "stdout",
     "output_type": "stream",
     "text": [
      "335000\n"
     ]
    }
   ],
   "source": [
    "y=np.sum(x[:,1])\n",
    "print(y)"
   ]
  },
  {
   "cell_type": "code",
   "execution_count": 31,
   "id": "38374885-9e0d-40da-89cc-28219b010457",
   "metadata": {},
   "outputs": [
    {
     "name": "stdout",
     "output_type": "stream",
     "text": [
      "8\n"
     ]
    }
   ],
   "source": [
    "# Which store recorded the **highest sales**?\n",
    "y=np.argmax(x[:, 1])\n",
    "print(y)"
   ]
  },
  {
   "cell_type": "code",
   "execution_count": 32,
   "id": "f5e1b26e-48f4-4000-aea1-5275444f781b",
   "metadata": {},
   "outputs": [
    {
     "name": "stdout",
     "output_type": "stream",
     "text": [
      "3\n"
     ]
    }
   ],
   "source": [
    "# Which store recorded the **highest sales**?\n",
    "inventory= x[:, 3]\n",
    "y= np.sum(inventory < 1300)\n",
    "print(y)"
   ]
  },
  {
   "cell_type": "code",
   "execution_count": 33,
   "id": "7124950c-c9d0-46a1-a049-6aa3ac253745",
   "metadata": {},
   "outputs": [
    {
     "ename": "SyntaxError",
     "evalue": "invalid character '÷' (U+00F7) (51575950.py, line 23)",
     "output_type": "error",
     "traceback": [
      "  \u001b[36mCell\u001b[39m\u001b[36m \u001b[39m\u001b[32mIn[33]\u001b[39m\u001b[32m, line 23\u001b[39m\n\u001b[31m    \u001b[39m\u001b[31m14. Which store has the **highest return rate** (returns ÷ inventory)?\u001b[39m\n                                                             ^\n\u001b[31mSyntaxError\u001b[39m\u001b[31m:\u001b[39m invalid character '÷' (U+00F7)\n"
     ]
    }
   ],
   "source": [
    "# Retail Data – Business Questions (for `retail_data`)\n",
    "\n",
    "**Assumed columns:** `[StoreID, Sales, Customers, Inventory, Returns]`\n",
    "\n",
    "## Basic Performance Analysis\n",
    "1. What is the **total revenue** generated across all stores?\n",
    "2. Which store recorded the **highest sales**?\n",
    "3. Which store recorded the **lowest sales**?\n",
    "4. What is the **average daily sales** per store?\n",
    "5. How many stores achieved sales **above ₹35,000**?\n",
    "\n",
    "## Customer Insights\n",
    "6. Which store had the **highest customer footfall**?\n",
    "7. What is the **average number of customers** per store?\n",
    "8. How many stores have **more than 450 customers**?\n",
    "9. Which store has the **lowest customer count**?\n",
    "10. Is there any store where **high sales do not correspond to high customers**?\n",
    "\n",
    "## Inventory & Returns Analysis\n",
    "11. What is the **total inventory** across all stores?\n",
    "12. Which store has the **highest inventory stock**?\n",
    "13. How many stores have **inventory less than 1300 units**?\n",
    "14. Which store has the **highest return rate** (returns ÷ inventory)?\n",
    "15. Which stores have **returns greater than 15 units**?\n",
    "\n",
    "## Sales & Customer Correlation\n",
    "16. Is there a **positive correlation** between sales and customers?\n",
    "17. Which store has **high customer visits but low sales**?\n",
    "18. Which store has **low customers but high sales**?\n",
    "19. How many stores have **sales per customer above ₹90**?\n",
    "20. Which stores could **benefit from customer acquisition campaigns** (low customers, high inventory)?\n",
    "\n",
    "## Profitability & Growth\n",
    "21. If profit margin is **20% of sales**, what is the **profit per store**?\n",
    "22. Which store has the **highest profit**?\n",
    "23. Which store has the **lowest profit**?\n",
    "24. If sales increase by **10% next month**, what are the **new sales figures**?\n",
    "25. How will **total profit** change with the 10% sales increase?\n",
    "\n",
    "## Operational Strategy\n",
    "26. Which stores need **inventory restocking** based on sales and current stock?\n",
    "27. Which stores show **high returns percentage** and might require **quality checks**?\n",
    "28. Which store is the **best performer overall** (sales, customers, inventory turnover)?\n",
    "29. Which store is the **worst performer overall**?\n",
    "30. Which stores can be considered for **expansion** based on strong sales and customer metrics?"
   ]
  },
  {
   "cell_type": "code",
   "execution_count": 40,
   "id": "1c369287-5edd-4c66-8033-e5e15c919a45",
   "metadata": {},
   "outputs": [
    {
     "data": {
      "text/plain": [
       "np.int64(1)"
      ]
     },
     "execution_count": 40,
     "metadata": {},
     "output_type": "execute_result"
    }
   ],
   "source": [
    "##Which store recorded the **lowest sales**?\n",
    "y=np.argmin(x[:, 1])+1\n",
    "y\n"
   ]
  },
  {
   "cell_type": "code",
   "execution_count": 44,
   "id": "0c2498cc-0b71-49d1-9b31-9828c04e3075",
   "metadata": {},
   "outputs": [
    {
     "data": {
      "text/plain": [
       "np.float64(33500.0)"
      ]
     },
     "execution_count": 44,
     "metadata": {},
     "output_type": "execute_result"
    }
   ],
   "source": [
    "##### What is the **average daily sales** per store\n",
    "sales = x[:, 1]\n",
    "y=np.mean(sales)\n",
    "y"
   ]
  },
  {
   "cell_type": "code",
   "execution_count": 46,
   "id": "93e398c7-34e1-4430-b60d-daab0f96a7f8",
   "metadata": {},
   "outputs": [
    {
     "data": {
      "text/plain": [
       "np.int64(3)"
      ]
     },
     "execution_count": 46,
     "metadata": {},
     "output_type": "execute_result"
    }
   ],
   "source": [
    "#### How many stores achieved sales **above ₹35,000**?\n",
    "y=sum(x[:,1]>35000)\n",
    "y"
   ]
  },
  {
   "cell_type": "code",
   "execution_count": 48,
   "id": "f7584b7a-be89-41ce-937d-03213d5a5411",
   "metadata": {},
   "outputs": [
    {
     "data": {
      "text/plain": [
       "np.int64(9)"
      ]
     },
     "execution_count": 48,
     "metadata": {},
     "output_type": "execute_result"
    }
   ],
   "source": [
    "### Which store had the **highest customer footfall**?\n",
    "np.argmax(x[:,2])+1"
   ]
  },
  {
   "cell_type": "code",
   "execution_count": 50,
   "id": "724c2c55-34b3-487a-a8c7-90a6a4014e6e",
   "metadata": {},
   "outputs": [
    {
     "data": {
      "text/plain": [
       "np.float64(425.0)"
      ]
     },
     "execution_count": 50,
     "metadata": {},
     "output_type": "execute_result"
    }
   ],
   "source": [
    "####7. What is the **average number of customers** per store?\n",
    "y= np.mean(x[:,2])\n",
    "y"
   ]
  },
  {
   "cell_type": "code",
   "execution_count": 53,
   "id": "40e2f4e1-fc33-4a9b-810b-240cf3cf064b",
   "metadata": {},
   "outputs": [
    {
     "data": {
      "text/plain": [
       "np.int64(3)"
      ]
     },
     "execution_count": 53,
     "metadata": {},
     "output_type": "execute_result"
    }
   ],
   "source": [
    "####8.How many stores have **more than 450 customers**?\n",
    "y=np.sum(x[:,2]> 450)\n",
    "y"
   ]
  },
  {
   "cell_type": "code",
   "execution_count": 55,
   "id": "4b54a383-ff9a-443e-879b-eba5f6875def",
   "metadata": {},
   "outputs": [
    {
     "data": {
      "text/plain": [
       "np.int64(1)"
      ]
     },
     "execution_count": 55,
     "metadata": {},
     "output_type": "execute_result"
    }
   ],
   "source": [
    "###9. Which store has the **lowest customer count**?\n",
    "y=np.argmin(x[:,2])+1\n",
    "y"
   ]
  },
  {
   "cell_type": "code",
   "execution_count": 56,
   "id": "9d480b1c-af48-4c56-9bc0-b61db9d06914",
   "metadata": {},
   "outputs": [],
   "source": [
    "#### Is there any store where **high sales do not correspond to high customers**?\n"
   ]
  },
  {
   "cell_type": "code",
   "execution_count": 2,
   "id": "63d2642f-4cf4-4656-a7a9-323cd360287c",
   "metadata": {},
   "outputs": [
    {
     "ename": "NameError",
     "evalue": "name 'x' is not defined",
     "output_type": "error",
     "traceback": [
      "\u001b[31m---------------------------------------------------------------------------\u001b[39m",
      "\u001b[31mNameError\u001b[39m                                 Traceback (most recent call last)",
      "\u001b[36mCell\u001b[39m\u001b[36m \u001b[39m\u001b[32mIn[2]\u001b[39m\u001b[32m, line 2\u001b[39m\n\u001b[32m      1\u001b[39m \u001b[38;5;66;03m# 10. Is there any store where **high sales do not correspond to high customers**?\u001b[39;00m\n\u001b[32m----> \u001b[39m\u001b[32m2\u001b[39m sal = \u001b[43mx\u001b[49m[:,\u001b[32m1\u001b[39m].mean()\n\u001b[32m      3\u001b[39m cus = x[:,\u001b[32m2\u001b[39m].mean()\n\u001b[32m      4\u001b[39m mis = x[(x[:,\u001b[32m1\u001b[39m] > sal) & (x[:,\u001b[32m2\u001b[39m] < cus)]\n",
      "\u001b[31mNameError\u001b[39m: name 'x' is not defined"
     ]
    }
   ],
   "source": [
    "# 10. Is there any store where **high sales do not correspond to high customers**?\n"
   ]
  },
  {
   "cell_type": "code",
   "execution_count": 12,
   "id": "e60f4e38-2f31-491b-ba6d-accaa4ec9dd6",
   "metadata": {},
   "outputs": [
    {
     "data": {
      "text/plain": [
       "array([[    5, 35000,   420,  1400,    12]])"
      ]
     },
     "execution_count": 12,
     "metadata": {},
     "output_type": "execute_result"
    }
   ],
   "source": [
    "sal = x[:,1].mean()\n",
    "cus = x[:,2].mean()\n",
    "mis = x[(x[:,1] > sal) & (x[:,2] < cus)]\n",
    "mis"
   ]
  },
  {
   "cell_type": "code",
   "execution_count": 57,
   "id": "084509e3-35b2-4730-b1f5-763abe82f86d",
   "metadata": {},
   "outputs": [
    {
     "data": {
      "text/plain": [
       "np.int64(14300)"
      ]
     },
     "execution_count": 57,
     "metadata": {},
     "output_type": "execute_result"
    }
   ],
   "source": [
    "####11. What is the **total inventory** across all stores?\n",
    "np.sum(x[:,3])"
   ]
  },
  {
   "cell_type": "code",
   "execution_count": 59,
   "id": "71b6deb2-7312-4001-9c28-d1b5e0681b07",
   "metadata": {},
   "outputs": [
    {
     "data": {
      "text/plain": [
       "np.int64(9)"
      ]
     },
     "execution_count": 59,
     "metadata": {},
     "output_type": "execute_result"
    }
   ],
   "source": [
    "####12. Which store has the **highest inventory stock**?\n",
    "np.argmax(x[:,3])+1"
   ]
  },
  {
   "cell_type": "code",
   "execution_count": 63,
   "id": "a2cf4e0e-fc2e-4ab6-82aa-817a9b2b62af",
   "metadata": {},
   "outputs": [
    {
     "data": {
      "text/plain": [
       "array([ True, False,  True, False, False, False, False,  True, False,\n",
       "       False])"
      ]
     },
     "execution_count": 63,
     "metadata": {},
     "output_type": "execute_result"
    }
   ],
   "source": [
    "##### How many stores have **inventory less than 1300 units**?\n",
    "x[:,3] < 1300\n",
    "y"
   ]
  },
  {
   "cell_type": "code",
   "execution_count": 14,
   "id": "80a982c2-dfed-4420-a185-3c64b4abaf30",
   "metadata": {},
   "outputs": [
    {
     "data": {
      "text/plain": [
       "np.int64(42)"
      ]
     },
     "execution_count": 14,
     "metadata": {},
     "output_type": "execute_result"
    }
   ],
   "source": [
    "####14. Which store has the **highest return rate** (returns ÷ inventory)?\n",
    "y= (x[:,4]) / (x[:,3])\n",
    "x.argmax()+1"
   ]
  },
  {
   "cell_type": "code",
   "execution_count": 15,
   "id": "50f01726-73ca-4ad8-ad5c-978a9fd95bc0",
   "metadata": {},
   "outputs": [
    {
     "data": {
      "text/plain": [
       "array([[    4, 41000,   500,  1600,    20],\n",
       "       [    7, 39000,   480,  1700,    18],\n",
       "       [    9, 45000,   550,  1800,    25]])"
      ]
     },
     "execution_count": 15,
     "metadata": {},
     "output_type": "execute_result"
    }
   ],
   "source": [
    "###15. Which stores have **returns greater than 15 units**?\n",
    "y =x[(x[:,4]) > 15]\n",
    "y"
   ]
  },
  {
   "cell_type": "code",
   "execution_count": 17,
   "id": "94245b44-7ace-438a-bd4d-db07105ccd33",
   "metadata": {},
   "outputs": [],
   "source": [
    "\n",
    "###16. Is there a **positive correlation** between sales and customers?"
   ]
  },
  {
   "cell_type": "code",
   "execution_count": null,
   "id": "cf64ee6d-0f74-4b04-8cf9-5bf3131e6fec",
   "metadata": {},
   "outputs": [],
   "source": []
  },
  {
   "cell_type": "code",
   "execution_count": null,
   "id": "35dc8aff-f725-4155-acf0-9a1860196eec",
   "metadata": {},
   "outputs": [],
   "source": []
  },
  {
   "cell_type": "code",
   "execution_count": 19,
   "id": "c4375742-48ff-4178-8ad8-682ee9c6ec63",
   "metadata": {},
   "outputs": [],
   "source": [
    "###17. Which store has **high customer visits but low sales**?"
   ]
  },
  {
   "cell_type": "code",
   "execution_count": 21,
   "id": "798f59ff-f37e-489a-8b22-e1b1b8983c28",
   "metadata": {},
   "outputs": [
    {
     "data": {
      "text/plain": [
       "array([[    2, 32000,   450,  1500,    15]])"
      ]
     },
     "execution_count": 21,
     "metadata": {},
     "output_type": "execute_result"
    }
   ],
   "source": [
    "y = x[:,2].mean()\n",
    "u = x[:,1].mean()\n",
    "z= x[(x[:,2] >y) & (x[:,1] < u)]\n",
    "z"
   ]
  },
  {
   "cell_type": "code",
   "execution_count": 23,
   "id": "c4f8131a-c184-4a6b-8122-6129b5fa0b56",
   "metadata": {},
   "outputs": [
    {
     "data": {
      "text/plain": [
       "array([[    5, 35000,   420,  1400,    12]])"
      ]
     },
     "execution_count": 23,
     "metadata": {},
     "output_type": "execute_result"
    }
   ],
   "source": [
    "####18. Which store has **low customers but high sales**?\n",
    "first = x[:,2].mean()\n",
    "sec = x[:,1].mean()\n",
    "res = x[(x[:,2] < first) & (x[:,1] > sec)]\n",
    "res"
   ]
  },
  {
   "cell_type": "code",
   "execution_count": 24,
   "id": "0d4e3637-c4c3-4510-95fe-e1af7597d870",
   "metadata": {},
   "outputs": [
    {
     "data": {
      "text/plain": [
       "np.int64(0)"
      ]
     },
     "execution_count": 24,
     "metadata": {},
     "output_type": "execute_result"
    }
   ],
   "source": [
    "###19. How many stores have **sales per customer above ₹90**?\n",
    "res = x[:,1] / x[:,2]\n",
    "new = np.sum(res > 90)\n",
    "new"
   ]
  },
  {
   "cell_type": "code",
   "execution_count": 25,
   "id": "d02c02dc-475e-4695-bbef-c5984136fd44",
   "metadata": {},
   "outputs": [],
   "source": [
    "###20. Which stores could **benefit from customer acquisition campaigns** (low customers, high inventory)?\n"
   ]
  },
  {
   "cell_type": "code",
   "execution_count": null,
   "id": "1c576d25-e788-4e54-8db8-3927544f72dc",
   "metadata": {},
   "outputs": [],
   "source": []
  },
  {
   "cell_type": "code",
   "execution_count": null,
   "id": "975c2c2f-58f4-49e3-9ffd-0f1ac8fba862",
   "metadata": {},
   "outputs": [],
   "source": []
  },
  {
   "cell_type": "code",
   "execution_count": 27,
   "id": "1cb4f867-e81f-4a8a-b27d-52e8f260e359",
   "metadata": {},
   "outputs": [
    {
     "data": {
      "text/plain": [
       "array([5000., 6400., 5600., 8200., 7000., 5400., 7800., 6000., 9000.,\n",
       "       6600.])"
      ]
     },
     "execution_count": 27,
     "metadata": {},
     "output_type": "execute_result"
    },
    {
     "data": {
      "text/plain": []
     },
     "metadata": {},
     "output_type": "display_data"
    }
   ],
   "source": [
    "###21. If profit margin is **20% of sales**, what is the **profit per store**?\n",
    "res = 0.20 * x[:,1]\n",
    "res"
   ]
  },
  {
   "cell_type": "code",
   "execution_count": 28,
   "id": "5e014aae-f2a0-4a35-bf76-c4db7ed1669e",
   "metadata": {},
   "outputs": [
    {
     "data": {
      "text/plain": [
       "np.int64(9)"
      ]
     },
     "execution_count": 28,
     "metadata": {},
     "output_type": "execute_result"
    }
   ],
   "source": [
    "#### 22. Which store has the **highest profit**?\n",
    "(x[:,1] * 0.20).argmax()+1"
   ]
  },
  {
   "cell_type": "code",
   "execution_count": 30,
   "id": "5461ef0e-1e98-4cee-92ea-9c7592ba560a",
   "metadata": {},
   "outputs": [
    {
     "data": {
      "text/plain": [
       "np.int64(1)"
      ]
     },
     "execution_count": 30,
     "metadata": {},
     "output_type": "execute_result"
    }
   ],
   "source": [
    "# ##23. Which store has the **lowest profit**?\n",
    "(x[:,1] * 0.20).argmin()+1"
   ]
  },
  {
   "cell_type": "code",
   "execution_count": 31,
   "id": "189aeac0-cb80-456e-b772-ffc66e733efc",
   "metadata": {},
   "outputs": [
    {
     "data": {
      "text/plain": [
       "array([2500., 3200., 2800., 4100., 3500., 2700., 3900., 3000., 4500.,\n",
       "       3300.])"
      ]
     },
     "execution_count": 31,
     "metadata": {},
     "output_type": "execute_result"
    }
   ],
   "source": [
    "### 24. If sales increase by **10% next month**, what are the **new sales figures**?\n",
    "x[:,1] * 0.10"
   ]
  },
  {
   "cell_type": "code",
   "execution_count": 32,
   "id": "b2925d2d-26ee-4937-8d86-3f7165c463eb",
   "metadata": {},
   "outputs": [
    {
     "data": {
      "text/plain": [
       "array([27500., 35200., 30800., 45100., 38500., 29700., 42900., 33000.,\n",
       "       49500., 36300.])"
      ]
     },
     "execution_count": 32,
     "metadata": {},
     "output_type": "execute_result"
    }
   ],
   "source": [
    "### 25. How will **total profit** change with the 10% sales increase?\n",
    "(x[:,1] * 0.10) + x[:,1]"
   ]
  },
  {
   "cell_type": "code",
   "execution_count": 33,
   "id": "d3d0cfa0-fb9e-45bb-8c94-4ae8493ce51a",
   "metadata": {},
   "outputs": [
    {
     "data": {
      "text/plain": [
       "array([[    5, 35000,   420,  1400,    12]])"
      ]
     },
     "execution_count": 33,
     "metadata": {},
     "output_type": "execute_result"
    }
   ],
   "source": [
    "### 26. Which stores need **inventory restocking** based on sales and current stock?\n",
    "sal = x[:,1].mean()\n",
    "ret = x[:,4].mean()\n",
    "res = x[(x[:,1] > sal) & (x[:,4] < ret)]\n",
    "res"
   ]
  },
  {
   "cell_type": "code",
   "execution_count": 34,
   "id": "0cd0e0ed-4976-4d3d-ae5a-9adc8e8d831c",
   "metadata": {},
   "outputs": [
    {
     "data": {
      "text/plain": [
       "array([[    2, 32000,   450,  1500,    15],\n",
       "       [    4, 41000,   500,  1600,    20],\n",
       "       [    7, 39000,   480,  1700,    18],\n",
       "       [    9, 45000,   550,  1800,    25]])"
      ]
     },
     "execution_count": 34,
     "metadata": {},
     "output_type": "execute_result"
    }
   ],
   "source": [
    "#### 27. Which stores show **high returns percentage** and might require **quality checks**?\n",
    "aver = x[:,4].mean()\n",
    "res = x[(x[:,4] > aver)]\n",
    "res"
   ]
  },
  {
   "cell_type": "code",
   "execution_count": 35,
   "id": "89d80d5d-7142-440a-9f6c-84bab8cd405f",
   "metadata": {},
   "outputs": [],
   "source": [
    "#### 28. Which store is the **best performer overall** (sales, customers, inventory turnover)?"
   ]
  },
  {
   "cell_type": "code",
   "execution_count": null,
   "id": "5691e522-5c05-48a4-bb84-967e4dd16e72",
   "metadata": {},
   "outputs": [],
   "source": []
  },
  {
   "cell_type": "code",
   "execution_count": null,
   "id": "15f57c9d-4807-456f-8209-44a4a0be49d0",
   "metadata": {},
   "outputs": [],
   "source": []
  },
  {
   "cell_type": "code",
   "execution_count": null,
   "id": "0cc6467a-1162-4dbf-96e0-7530c2fc73b2",
   "metadata": {},
   "outputs": [],
   "source": []
  },
  {
   "cell_type": "code",
   "execution_count": 36,
   "id": "376dabc4-0ae7-4a65-92ec-63f493d6341d",
   "metadata": {},
   "outputs": [],
   "source": [
    "### 29. Which store is the **worst performer overall**?\n"
   ]
  },
  {
   "cell_type": "code",
   "execution_count": null,
   "id": "b91cca29-016d-48e1-b39e-686a8d2bb5f8",
   "metadata": {},
   "outputs": [],
   "source": []
  },
  {
   "cell_type": "code",
   "execution_count": null,
   "id": "eb32abb9-df42-46c5-93f2-8946cb099e18",
   "metadata": {},
   "outputs": [],
   "source": []
  },
  {
   "cell_type": "code",
   "execution_count": 37,
   "id": "e5c76d62-6952-41a5-85e4-41504104d161",
   "metadata": {},
   "outputs": [
    {
     "data": {
      "text/plain": [
       "array([[    4, 41000,   500,  1600,    20],\n",
       "       [    7, 39000,   480,  1700,    18],\n",
       "       [    9, 45000,   550,  1800,    25]])"
      ]
     },
     "execution_count": 37,
     "metadata": {},
     "output_type": "execute_result"
    }
   ],
   "source": [
    "# 30. Which stores can be considered for **expansion** based on strong sales and customer metrics?\n",
    "a = x[:,1].mean()\n",
    "b = x[:,2].mean()\n",
    "res = x[(x[:,1] > a) & (x[:,2] > b)]\n",
    "res"
   ]
  },
  {
   "cell_type": "code",
   "execution_count": null,
   "id": "505c3ad5-8b22-420b-ac5d-c22776362f60",
   "metadata": {},
   "outputs": [],
   "source": []
  }
 ],
 "metadata": {
  "kernelspec": {
   "display_name": "Python 3 (ipykernel)",
   "language": "python",
   "name": "python3"
  },
  "language_info": {
   "codemirror_mode": {
    "name": "ipython",
    "version": 3
   },
   "file_extension": ".py",
   "mimetype": "text/x-python",
   "name": "python",
   "nbconvert_exporter": "python",
   "pygments_lexer": "ipython3",
   "version": "3.13.5"
  }
 },
 "nbformat": 4,
 "nbformat_minor": 5
}
