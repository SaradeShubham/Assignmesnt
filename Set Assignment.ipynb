{
 "cells": [
  {
   "cell_type": "code",
   "execution_count": 1,
   "id": "226c9dab-5e88-4166-bb99-69fbdf950312",
   "metadata": {},
   "outputs": [
    {
     "name": "stdout",
     "output_type": "stream",
     "text": [
      "Question 1: Create a set of first 10 natural numbers\n"
     ]
    }
   ],
   "source": [
    "# Question 1: Create a set of first 10 natural numbers\n",
    "print(\"Question 1: Create a set of first 10 natural numbers\")"
   ]
  },
  {
   "cell_type": "code",
   "execution_count": 3,
   "id": "c4593fd0-f51d-4bae-9a7f-2df595f7e9f2",
   "metadata": {},
   "outputs": [
    {
     "name": "stdout",
     "output_type": "stream",
     "text": [
      "{1, 2, 3, 4, 5, 6, 7, 8, 9, 10}\n"
     ]
    }
   ],
   "source": [
    "x=set(range(1,11))\n",
    "print(x)"
   ]
  },
  {
   "cell_type": "code",
   "execution_count": 4,
   "id": "ac13b6c1-cb46-4f5c-986b-6cd49e4ac08f",
   "metadata": {},
   "outputs": [
    {
     "name": "stdout",
     "output_type": "stream",
     "text": [
      "\n",
      "Question 2: Add element 11 to set {1, 2, 3, 4, 5}\n"
     ]
    }
   ],
   "source": [
    "# Question 2: Add element 11 to set {1, 2, 3, 4, 5}\n",
    "print(\"\\nQuestion 2: Add element 11 to set {1, 2, 3, 4, 5}\")"
   ]
  },
  {
   "cell_type": "code",
   "execution_count": 9,
   "id": "bf743d81-9277-4e73-9d22-a1369a4a5253",
   "metadata": {},
   "outputs": [
    {
     "name": "stdout",
     "output_type": "stream",
     "text": [
      "{1, 2, 3, 4, 5, 11}\n"
     ]
    }
   ],
   "source": [
    "x={1, 2, 3, 4, 5}\n",
    "x.add(11)\n",
    "print(x)"
   ]
  },
  {
   "cell_type": "code",
   "execution_count": 10,
   "id": "128d3182-dc94-46c7-a6c4-562238ae9941",
   "metadata": {},
   "outputs": [
    {
     "name": "stdout",
     "output_type": "stream",
     "text": [
      "\n",
      "Question 3: Remove element 3 from set {1, 2, 3, 4, 5, 6}\n"
     ]
    }
   ],
   "source": [
    "# Question 3: Remove element 3 from set {1, 2, 3, 4, 5, 6}\n",
    "print(\"\\nQuestion 3: Remove element 3 from set {1, 2, 3, 4, 5, 6}\")"
   ]
  },
  {
   "cell_type": "code",
   "execution_count": 11,
   "id": "785fbb29-a254-41b6-a6a1-e22754db217f",
   "metadata": {},
   "outputs": [
    {
     "name": "stdout",
     "output_type": "stream",
     "text": [
      "{1, 2, 4, 5, 6}\n"
     ]
    }
   ],
   "source": [
    "x={1,2,3,4,5,6}\n",
    "x.remove(3)\n",
    "print(x)"
   ]
  },
  {
   "cell_type": "code",
   "execution_count": 12,
   "id": "6bbd221e-575e-42f4-a48b-5c1ee562ede4",
   "metadata": {
    "scrolled": true
   },
   "outputs": [
    {
     "name": "stdout",
     "output_type": "stream",
     "text": [
      "\n",
      "Question 4: Find the intersection of {1, 2, 3, 4, 5} and {4, 5, 6, 7, 8}\n"
     ]
    }
   ],
   "source": [
    "# Question 4: Find the intersection of {1, 2, 3, 4, 5} and {4, 5, 6, 7, 8}\n",
    "print(\"\\nQuestion 4: Find the intersection of {1, 2, 3, 4, 5} and {4, 5, 6, 7, 8}\")"
   ]
  },
  {
   "cell_type": "code",
   "execution_count": 14,
   "id": "1b2f7764-6cfe-45e6-b344-f03b49892ddf",
   "metadata": {},
   "outputs": [
    {
     "name": "stdout",
     "output_type": "stream",
     "text": [
      "{4, 5}\n"
     ]
    }
   ],
   "source": [
    "x={1,2,3,4,5}\n",
    "y={4,5,6,7,8}\n",
    "z=x&y\n",
    "print(z)"
   ]
  },
  {
   "cell_type": "code",
   "execution_count": 15,
   "id": "7b42bb91-fcb7-4733-b63d-f8d6abd22139",
   "metadata": {},
   "outputs": [
    {
     "name": "stdout",
     "output_type": "stream",
     "text": [
      "\n",
      "Question 5: Find the difference between {1, 2, 3, 4, 5} and {4, 5, 6, 7, 8}\n"
     ]
    }
   ],
   "source": [
    "\n",
    "# Question 5: Find the difference between {1, 2, 3, 4, 5} and {4, 5, 6, 7, 8}\n",
    "print(\"\\nQuestion 5: Find the difference between {1, 2, 3, 4, 5} and {4, 5, 6, 7, 8}\")"
   ]
  },
  {
   "cell_type": "code",
   "execution_count": 16,
   "id": "3cec4c9d-c18e-45bb-aefa-8fd262eb7e5f",
   "metadata": {},
   "outputs": [
    {
     "data": {
      "text/plain": [
       "{1, 2, 3}"
      ]
     },
     "execution_count": 16,
     "metadata": {},
     "output_type": "execute_result"
    }
   ],
   "source": [
    "x={1,2,3,4,5}\n",
    "y={4,5,6,7,8}\n",
    "x.difference(y)"
   ]
  },
  {
   "cell_type": "code",
   "execution_count": 17,
   "id": "04f93d1f-f9ce-4d2f-89bb-5a8f147a50ce",
   "metadata": {},
   "outputs": [
    {
     "name": "stdout",
     "output_type": "stream",
     "text": [
      "\n",
      "Question 6: Check if 5 is in set {1, 2, 3, 4, 6, 7, 8}\n"
     ]
    }
   ],
   "source": [
    "# Question 6: Check if 5 is in set {1, 2, 3, 4, 6, 7, 8}\n",
    "print(\"\\nQuestion 6: Check if 5 is in set {1, 2, 3, 4, 6, 7, 8}\")"
   ]
  },
  {
   "cell_type": "code",
   "execution_count": 18,
   "id": "8aff837c-3b59-440c-9b5f-a1479b09fe09",
   "metadata": {},
   "outputs": [
    {
     "name": "stdout",
     "output_type": "stream",
     "text": [
      "no\n"
     ]
    }
   ],
   "source": [
    "x={1,2,3,4,6,7,8}\n",
    "if 5 in x:\n",
    "    print(\"yes\")\n",
    "else:\n",
    "    print(\"no\")"
   ]
  },
  {
   "cell_type": "code",
   "execution_count": 19,
   "id": "4f1266ce-9296-4ccc-ba3d-572bce219b0b",
   "metadata": {},
   "outputs": [
    {
     "name": "stdout",
     "output_type": "stream",
     "text": [
      "\n",
      "Question 7: Find the length of set {'a', 'b', 'c', 'd', 'e'}\n"
     ]
    }
   ],
   "source": [
    "# Question 7: Find the length of set {'a', 'b', 'c', 'd', 'e'}\n",
    "print(\"\\nQuestion 7: Find the length of set {'a', 'b', 'c', 'd', 'e'}\")"
   ]
  },
  {
   "cell_type": "code",
   "execution_count": 20,
   "id": "ff475797-12aa-41f3-9d52-ba7c0e9b7995",
   "metadata": {},
   "outputs": [
    {
     "data": {
      "text/plain": [
       "5"
      ]
     },
     "execution_count": 20,
     "metadata": {},
     "output_type": "execute_result"
    }
   ],
   "source": [
    "x={'a','b','c','d','e'}\n",
    "len(x)"
   ]
  },
  {
   "cell_type": "code",
   "execution_count": 21,
   "id": "39d79369-38b1-44fd-9ac2-c9d89998a2c1",
   "metadata": {},
   "outputs": [
    {
     "name": "stdout",
     "output_type": "stream",
     "text": [
      "\n",
      "Question 8: Create a set of vowels from string 'hello world'\n"
     ]
    }
   ],
   "source": [
    "# Question 8: Create a set of vowels from string \"hello world\"\n",
    "print(\"\\nQuestion 8: Create a set of vowels from string 'hello world'\")"
   ]
  },
  {
   "cell_type": "code",
   "execution_count": 22,
   "id": "09574166-ecd0-4c4e-ae90-1efaea36151e",
   "metadata": {},
   "outputs": [
    {
     "name": "stdout",
     "output_type": "stream",
     "text": [
      "{'o', 'e'}\n"
     ]
    }
   ],
   "source": [
    "x='hello world'\n",
    "y={'a','e','i','o','u'}\n",
    "z= {i for i in x if i in y}\n",
    "print(z)"
   ]
  },
  {
   "cell_type": "code",
   "execution_count": 23,
   "id": "d9f747ae-065d-4fac-a972-e080ac47c54f",
   "metadata": {},
   "outputs": [
    {
     "name": "stdout",
     "output_type": "stream",
     "text": [
      "\n",
      "Question 9: Remove duplicates from list [1, 2, 2, 3, 4, 4, 5, 6, 6, 7] using set\n"
     ]
    }
   ],
   "source": [
    "# Question 9: Remove duplicates from list [1, 2, 2, 3, 4, 4, 5, 6, 6, 7] using set\n",
    "print(\"\\nQuestion 9: Remove duplicates from list [1, 2, 2, 3, 4, 4, 5, 6, 6, 7] using set\")"
   ]
  },
  {
   "cell_type": "code",
   "execution_count": 27,
   "id": "f2e081a6-25f5-46b8-bd50-d77438912603",
   "metadata": {},
   "outputs": [
    {
     "name": "stdout",
     "output_type": "stream",
     "text": [
      "{1, 2, 3, 4, 5, 6, 7}\n"
     ]
    }
   ],
   "source": [
    "x=[1, 2, 2, 3, 4, 4, 5, 6, 6, 7] \n",
    "y=set(x)\n",
    "print(y)"
   ]
  },
  {
   "cell_type": "code",
   "execution_count": 28,
   "id": "116c8c28-ce5e-49fe-b904-df563f8bf702",
   "metadata": {},
   "outputs": [
    {
     "name": "stdout",
     "output_type": "stream",
     "text": [
      "\n",
      "Question 10: Check if {1, 2, 3} is a subset of {1, 2, 3, 4, 5, 6}\n"
     ]
    }
   ],
   "source": [
    "# Question 10: Check if {1, 2, 3} is a subset of {1, 2, 3, 4, 5, 6}\n",
    "print(\"\\nQuestion 10: Check if {1, 2, 3} is a subset of {1, 2, 3, 4, 5, 6}\")"
   ]
  },
  {
   "cell_type": "code",
   "execution_count": 30,
   "id": "576940d1-506d-410b-9539-2ecb9fed6a9b",
   "metadata": {},
   "outputs": [
    {
     "data": {
      "text/plain": [
       "True"
      ]
     },
     "execution_count": 30,
     "metadata": {},
     "output_type": "execute_result"
    }
   ],
   "source": [
    "x={1,2,3}\n",
    "y={1,2,3,4,5,6}\n",
    "x.issubset(y)"
   ]
  },
  {
   "cell_type": "code",
   "execution_count": null,
   "id": "4d2a6d98-9763-4398-9c32-96d9908c23de",
   "metadata": {},
   "outputs": [],
   "source": []
  }
 ],
 "metadata": {
  "kernelspec": {
   "display_name": "Python 3 (ipykernel)",
   "language": "python",
   "name": "python3"
  },
  "language_info": {
   "codemirror_mode": {
    "name": "ipython",
    "version": 3
   },
   "file_extension": ".py",
   "mimetype": "text/x-python",
   "name": "python",
   "nbconvert_exporter": "python",
   "pygments_lexer": "ipython3",
   "version": "3.13.5"
  }
 },
 "nbformat": 4,
 "nbformat_minor": 5
}
