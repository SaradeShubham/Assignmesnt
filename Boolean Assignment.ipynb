{
 "cells": [
  {
   "cell_type": "code",
   "execution_count": 1,
   "id": "74c3b087-852f-44b5-8b5f-f2e360d7eee2",
   "metadata": {},
   "outputs": [
    {
     "name": "stdout",
     "output_type": "stream",
     "text": [
      "Question 1: Check if 25 is greater than 20 and less than 30\n"
     ]
    }
   ],
   "source": [
    "# Question 1: Check if 25 is greater than 20 and less than 30\n",
    "print(\"Question 1: Check if 25 is greater than 20 and less than 30\")"
   ]
  },
  {
   "cell_type": "code",
   "execution_count": 3,
   "id": "dc36363e-4d73-4409-afd1-1831e72a3fb2",
   "metadata": {},
   "outputs": [
    {
     "name": "stdout",
     "output_type": "stream",
     "text": [
      "25 is greater than 20 and less than 30\n"
     ]
    }
   ],
   "source": [
    "if 25>20 and 25<30 :\n",
    "    print(\"25 is greater than 20 and less than 30\")\n",
    "else:\n",
    "    print(\"not justified\")"
   ]
  },
  {
   "cell_type": "code",
   "execution_count": 4,
   "id": "6988aad6-38a8-451e-a7da-5aa2cebf7075",
   "metadata": {},
   "outputs": [
    {
     "name": "stdout",
     "output_type": "stream",
     "text": [
      "\n",
      "Question 2: Check if string 'python' is equal to 'Python' (case sensitive)\n"
     ]
    }
   ],
   "source": [
    "# Question 2: Check if string \"python\" is equal to \"Python\" (case sensitive)\n",
    "print(\"\\nQuestion 2: Check if string 'python' is equal to 'Python' (case sensitive)\")"
   ]
  },
  {
   "cell_type": "code",
   "execution_count": 5,
   "id": "a85e505b-e6bf-464e-bd86-a161c9ec9d2c",
   "metadata": {},
   "outputs": [
    {
     "name": "stdout",
     "output_type": "stream",
     "text": [
      "'python' is not equal to 'Pyton'\n"
     ]
    }
   ],
   "source": [
    "if 'python'=='Python':\n",
    "    print(\"'python' is equal to 'Python'\")\n",
    "else:\n",
    "    print(\"'python' is not equal to 'Pyton'\")\n"
   ]
  },
  {
   "cell_type": "code",
   "execution_count": 6,
   "id": "c478d3e2-ee66-40ce-8e57-c25a63184f78",
   "metadata": {},
   "outputs": [
    {
     "name": "stdout",
     "output_type": "stream",
     "text": [
      "\n",
      "Question 3: Check if 15 is divisible by both 3 and 5\n"
     ]
    }
   ],
   "source": [
    "# Question 3: Check if 15 is divisible by both 3 and 5\n",
    "print(\"\\nQuestion 3: Check if 15 is divisible by both 3 and 5\")"
   ]
  },
  {
   "cell_type": "code",
   "execution_count": 7,
   "id": "65667b89-83cc-4ee5-8501-aaddccdd081d",
   "metadata": {},
   "outputs": [
    {
     "name": "stdout",
     "output_type": "stream",
     "text": [
      "15 is divisible by both 3 and 5\n"
     ]
    }
   ],
   "source": [
    "if 15%3==0 and 15%3==0:\n",
    "    print(\"15 is divisible by both 3 and 5\")\n",
    "else:\n",
    "    print(\"15 is not divisible by 3 and 5\")"
   ]
  },
  {
   "cell_type": "code",
   "execution_count": 8,
   "id": "72c53bfa-98b8-473c-ae50-adcdff2ee2ec",
   "metadata": {},
   "outputs": [
    {
     "name": "stdout",
     "output_type": "stream",
     "text": [
      "\n",
      "Question 4: Check if 7 is not equal to 8\n"
     ]
    }
   ],
   "source": [
    "# Question 4: Check if 7 is not equal to 8\n",
    "print(\"\\nQuestion 4: Check if 7 is not equal to 8\")"
   ]
  },
  {
   "cell_type": "code",
   "execution_count": 9,
   "id": "af114fe1-5fcd-4378-b8ee-bee047e74cdd",
   "metadata": {},
   "outputs": [
    {
     "name": "stdout",
     "output_type": "stream",
     "text": [
      "7 is not equalto 8\n"
     ]
    }
   ],
   "source": [
    "if 7==8:\n",
    "    print(\"7 is equalto 8\")\n",
    "else:\n",
    "    print(\"7 is not equalto 8\")"
   ]
  },
  {
   "cell_type": "code",
   "execution_count": 10,
   "id": "347925e4-ad36-4b66-8ec8-880d2b97d3d2",
   "metadata": {},
   "outputs": [
    {
     "name": "stdout",
     "output_type": "stream",
     "text": [
      "\n",
      "Question 5: Check if 100 is greater than 50 or less than 25\n"
     ]
    }
   ],
   "source": [
    "# Question 5: Check if 100 is greater than 50 or less than 25\n",
    "print(\"\\nQuestion 5: Check if 100 is greater than 50 or less than 25\")"
   ]
  },
  {
   "cell_type": "code",
   "execution_count": 11,
   "id": "ebdcd28e-8e5a-41b2-9025-471c1ef8b1d2",
   "metadata": {},
   "outputs": [
    {
     "name": "stdout",
     "output_type": "stream",
     "text": [
      "100 is greater than 50 and 25\n"
     ]
    }
   ],
   "source": [
    "if 100>50 or 100>25:\n",
    "    print(\"100 is greater than 50 and 25\")\n",
    "else:\n",
    "    print(\"100 is less than 50 and 25\")"
   ]
  },
  {
   "cell_type": "code",
   "execution_count": 12,
   "id": "ea6fcfd2-e6c8-4e6b-bcdf-24621af5e286",
   "metadata": {},
   "outputs": [
    {
     "name": "stdout",
     "output_type": "stream",
     "text": [
      "\n",
      "Question 6: Check if 0 is falsy in Python\n"
     ]
    }
   ],
   "source": [
    "# Question 6: Check if 0 is falsy in Python\n",
    "print(\"\\nQuestion 6: Check if 0 is falsy in Python\")"
   ]
  },
  {
   "cell_type": "code",
   "execution_count": 13,
   "id": "40deed9d-1755-4b8e-89e0-59b154259ee7",
   "metadata": {},
   "outputs": [
    {
     "name": "stdout",
     "output_type": "stream",
     "text": [
      "Truthy in python\n"
     ]
    }
   ],
   "source": [
    "if 0:\n",
    "    print (\"falsy in python\")\n",
    "else: \n",
    "    print(\"Truthy in python\")"
   ]
  },
  {
   "cell_type": "code",
   "execution_count": 14,
   "id": "78c34ed8-586e-47da-a085-181e6a1298c7",
   "metadata": {},
   "outputs": [
    {
     "name": "stdout",
     "output_type": "stream",
     "text": [
      "\n",
      "Question 7: Check if empty string '' is falsy in Python\n"
     ]
    }
   ],
   "source": [
    "# Question 7: Check if empty string \"\" is falsy in Python\n",
    "print(\"\\nQuestion 7: Check if empty string '' is falsy in Python\")"
   ]
  },
  {
   "cell_type": "code",
   "execution_count": 15,
   "id": "4b075f87-5de8-4a73-a8f5-b82c4a0b7728",
   "metadata": {},
   "outputs": [
    {
     "name": "stdout",
     "output_type": "stream",
     "text": [
      "Truthy in python\n"
     ]
    }
   ],
   "source": [
    "if \"\":\n",
    "    print(\"is falsy in python\")\n",
    "else:\n",
    "    print(\"Truthy in python\")"
   ]
  },
  {
   "cell_type": "code",
   "execution_count": 16,
   "id": "7488b143-f736-47e7-8ca5-8969a752bd0d",
   "metadata": {},
   "outputs": [
    {
     "name": "stdout",
     "output_type": "stream",
     "text": [
      "\n",
      "Question 8: Check if 42 is truthy in Python\n"
     ]
    }
   ],
   "source": [
    "\n",
    "# Question 8: Check if 42 is truthy in Python\n",
    "print(\"\\nQuestion 8: Check if 42 is truthy in Python\")"
   ]
  },
  {
   "cell_type": "code",
   "execution_count": 21,
   "id": "739b9405-d5a1-437b-b150-0f897dc1499e",
   "metadata": {},
   "outputs": [
    {
     "name": "stdout",
     "output_type": "stream",
     "text": [
      "42 is truthy.\n"
     ]
    }
   ],
   "source": [
    "if 42:\n",
    "    print(\"42 is truthy.\")\n",
    "else:\n",
    "    print(\"42 is falsy.\")"
   ]
  },
  {
   "cell_type": "code",
   "execution_count": 25,
   "id": "e871e2ef-0dfd-4d65-a227-fbf4785d8b19",
   "metadata": {},
   "outputs": [
    {
     "name": "stdout",
     "output_type": "stream",
     "text": [
      "\n",
      "Question 9: Check if 10 is between 5 and 15 (inclusive)\n"
     ]
    }
   ],
   "source": [
    "# Question 9: Check if 10 is between 5 and 15 (inclusive)\n",
    "print(\"\\nQuestion 9: Check if 10 is between 5 and 15 (inclusive)\")\n"
   ]
  },
  {
   "cell_type": "code",
   "execution_count": 26,
   "id": "6d3f1a63-c3ff-4291-8474-ea3477e33b50",
   "metadata": {},
   "outputs": [
    {
     "name": "stdout",
     "output_type": "stream",
     "text": [
      "10 is between 5 and 15\n"
     ]
    }
   ],
   "source": [
    "if 10>=5 and 10<=15:\n",
    "    print(\"10 is between 5 and 15\")\n",
    "else:\n",
    "    print(\"10 in not between 5 and 15\")\n"
   ]
  },
  {
   "cell_type": "code",
   "execution_count": 27,
   "id": "5c8f571a-73b2-4e40-a7cd-6fe6932bbd16",
   "metadata": {},
   "outputs": [
    {
     "name": "stdout",
     "output_type": "stream",
     "text": [
      "\n",
      "Question 10: Check if 3.14 is greater than 3 and less than 4\n"
     ]
    }
   ],
   "source": [
    "# Question 10: Check if 3.14 is greater than 3 and less than 4\n",
    "print(\"\\nQuestion 10: Check if 3.14 is greater than 3 and less than 4\")"
   ]
  },
  {
   "cell_type": "code",
   "execution_count": 28,
   "id": "50971929-c913-41bb-a33d-f9334a2309a3",
   "metadata": {},
   "outputs": [
    {
     "name": "stdout",
     "output_type": "stream",
     "text": [
      "3.14 is greater than 3 and less than 4\n"
     ]
    }
   ],
   "source": [
    "if 3.14>3 and 3.14<4:\n",
    "    print(\"3.14 is greater than 3 and less than 4\")\n",
    "else:\n",
    "    print(\"3.14 is not greater than 3 and less than 4 \")"
   ]
  },
  {
   "cell_type": "code",
   "execution_count": null,
   "id": "3f31ce87-9967-46d5-bbdb-02e3639942fc",
   "metadata": {},
   "outputs": [],
   "source": []
  }
 ],
 "metadata": {
  "kernelspec": {
   "display_name": "Python 3 (ipykernel)",
   "language": "python",
   "name": "python3"
  },
  "language_info": {
   "codemirror_mode": {
    "name": "ipython",
    "version": 3
   },
   "file_extension": ".py",
   "mimetype": "text/x-python",
   "name": "python",
   "nbconvert_exporter": "python",
   "pygments_lexer": "ipython3",
   "version": "3.13.5"
  }
 },
 "nbformat": 4,
 "nbformat_minor": 5
}
