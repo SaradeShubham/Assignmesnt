{
 "cells": [
  {
   "cell_type": "code",
   "execution_count": 1,
   "id": "200fc5de-df54-41d3-a8af-fb4ce226c5ec",
   "metadata": {},
   "outputs": [
    {
     "name": "stdout",
     "output_type": "stream",
     "text": [
      "Question 1: Reverse the string 'Python Programming'\n"
     ]
    }
   ],
   "source": [
    "# Question 1: Reverse the string \"Python Programming\"\n",
    "print(\"Question 1: Reverse the string 'Python Programming'\")"
   ]
  },
  {
   "cell_type": "code",
   "execution_count": 3,
   "id": "39f429e6-44d6-4b35-88a6-142d97f5d0ab",
   "metadata": {},
   "outputs": [
    {
     "data": {
      "text/plain": [
       "'gnimmargorP nohtyP'"
      ]
     },
     "execution_count": 3,
     "metadata": {},
     "output_type": "execute_result"
    }
   ],
   "source": [
    "x='Python Programming'\n",
    "x[::-1]"
   ]
  },
  {
   "cell_type": "code",
   "execution_count": 4,
   "id": "a234b394-33f7-4608-836f-fb1f6eae78f0",
   "metadata": {},
   "outputs": [
    {
     "name": "stdout",
     "output_type": "stream",
     "text": [
      "\n",
      "Question 2: Check if 'racecar' is a palindrome\n"
     ]
    }
   ],
   "source": [
    "# Question 2: Check if \"racecar\" is a palindrome\n",
    "print(\"\\nQuestion 2: Check if 'racecar' is a palindrome\")"
   ]
  },
  {
   "cell_type": "code",
   "execution_count": 5,
   "id": "e4798de2-d60c-4472-8abb-c9bdc2539f3b",
   "metadata": {},
   "outputs": [
    {
     "name": "stdout",
     "output_type": "stream",
     "text": [
      "it is palindrome\n"
     ]
    }
   ],
   "source": [
    "r='racecar'\n",
    "if r==r[::-1]:\n",
    "    print(\"it is palindrome\")\n",
    "else:\n",
    "    print(\"not a palindrome\")\n"
   ]
  },
  {
   "cell_type": "code",
   "execution_count": 6,
   "id": "7bce9feb-831b-4ad5-97cf-d06625fd522d",
   "metadata": {},
   "outputs": [
    {
     "name": "stdout",
     "output_type": "stream",
     "text": [
      "\n",
      "Question 3: Count the number of words in 'Python is a great programming language'\n"
     ]
    }
   ],
   "source": [
    "# Question 3: Count the number of words in \"Python is a great programming language\"\n",
    "print(\"\\nQuestion 3: Count the number of words in 'Python is a great programming language'\")"
   ]
  },
  {
   "cell_type": "code",
   "execution_count": 7,
   "id": "1d23df69-e234-48e6-9c6c-5047cc70d7aa",
   "metadata": {},
   "outputs": [
    {
     "data": {
      "text/plain": [
       "6"
      ]
     },
     "execution_count": 7,
     "metadata": {},
     "output_type": "execute_result"
    }
   ],
   "source": [
    "s='Python is a great programming language'\n",
    "len(s.split())"
   ]
  },
  {
   "cell_type": "code",
   "execution_count": 8,
   "id": "006732b4-5747-40b1-96b9-ce70facbc898",
   "metadata": {},
   "outputs": [
    {
     "name": "stdout",
     "output_type": "stream",
     "text": [
      "\n",
      "Question 4: Convert 'hello world' to title case\n"
     ]
    }
   ],
   "source": [
    "# Question 4: Convert \"hello world\" to title case\n",
    "print(\"\\nQuestion 4: Convert 'hello world' to title case\")"
   ]
  },
  {
   "cell_type": "code",
   "execution_count": 12,
   "id": "c39ad010-5f6e-4d30-b166-a58920d3464f",
   "metadata": {},
   "outputs": [],
   "source": [
    "title='hello world'"
   ]
  },
  {
   "cell_type": "code",
   "execution_count": 13,
   "id": "49c16959-09c3-41a8-803a-80a07c1079a3",
   "metadata": {},
   "outputs": [
    {
     "name": "stdout",
     "output_type": "stream",
     "text": [
      "Hello World\n"
     ]
    }
   ],
   "source": [
    "s=title.title()\n",
    "print(s)"
   ]
  },
  {
   "cell_type": "code",
   "execution_count": null,
   "id": "1e06a723-1f09-4957-99a4-def9019e2a45",
   "metadata": {},
   "outputs": [],
   "source": []
  },
  {
   "cell_type": "code",
   "execution_count": 9,
   "id": "0e93b1e1-75dd-4a96-ad48-610324c82087",
   "metadata": {},
   "outputs": [
    {
     "name": "stdout",
     "output_type": "stream",
     "text": [
      "\n",
      "Question 5: Find the length of string 'Data Science'\n"
     ]
    }
   ],
   "source": [
    "# Question 5: Find the length of string \"Data Science\"\n",
    "print(\"\\nQuestion 5: Find the length of string 'Data Science'\")"
   ]
  },
  {
   "cell_type": "code",
   "execution_count": 10,
   "id": "75888f66-2ed8-49c8-8dd8-16e253b6cf2b",
   "metadata": {},
   "outputs": [
    {
     "data": {
      "text/plain": [
       "12"
      ]
     },
     "execution_count": 10,
     "metadata": {},
     "output_type": "execute_result"
    }
   ],
   "source": [
    "str='Data Science'\n",
    "len(str)"
   ]
  },
  {
   "cell_type": "code",
   "execution_count": 14,
   "id": "34cfa565-0d5d-48dd-9ad6-450c793eb179",
   "metadata": {},
   "outputs": [
    {
     "name": "stdout",
     "output_type": "stream",
     "text": [
      "\n",
      "Question 6: Replace all spaces with underscores in 'Machine Learning'\n"
     ]
    }
   ],
   "source": [
    "\n",
    "# Question 6: Replace all spaces with underscores in \"Machine Learning\"\n",
    "print(\"\\nQuestion 6: Replace all spaces with underscores in 'Machine Learning'\")"
   ]
  },
  {
   "cell_type": "code",
   "execution_count": 15,
   "id": "57bf7bad-2513-43eb-843c-8568b76c4967",
   "metadata": {},
   "outputs": [
    {
     "data": {
      "text/plain": [
       "'Machine_Learning'"
      ]
     },
     "execution_count": 15,
     "metadata": {},
     "output_type": "execute_result"
    }
   ],
   "source": [
    "x='Machine Learning'\n",
    "x.replace(' ','_')"
   ]
  },
  {
   "cell_type": "code",
   "execution_count": 17,
   "id": "be77b104-d51d-45b5-a226-0bbd0fbd0e18",
   "metadata": {},
   "outputs": [
    {
     "name": "stdout",
     "output_type": "stream",
     "text": [
      "\n",
      "Question 7: Check if 'python' is in 'Python Programming Language'\n"
     ]
    }
   ],
   "source": [
    "# Question 7: Check if \"python\" is in \"Python Programming Language\"\n",
    "print(\"\\nQuestion 7: Check if 'python' is in 'Python Programming Language'\")"
   ]
  },
  {
   "cell_type": "code",
   "execution_count": 24,
   "id": "5396b855-8cc7-4587-b09d-e774f52bb164",
   "metadata": {},
   "outputs": [
    {
     "name": "stdout",
     "output_type": "stream",
     "text": [
      "no,'{word}'is not in '{check}'\n"
     ]
    }
   ],
   "source": [
    "check='Python Programming Language'\n",
    "word=\"python\"\n",
    "if word in check:\n",
    "    print(\"yes,'{word}'isin '{check}'\")\n",
    "else:\n",
    "    print(\"no,'{word}'is not in '{check}'\")"
   ]
  },
  {
   "cell_type": "code",
   "execution_count": 25,
   "id": "147e9888-135d-4c79-b545-31d0bdf37b11",
   "metadata": {},
   "outputs": [
    {
     "name": "stdout",
     "output_type": "stream",
     "text": [
      "\n",
      "Question 8: Extract the first 5 characters from 'Artificial Intelligence'\n"
     ]
    }
   ],
   "source": [
    "# Question 8: Extract the first 5 characters from \"Artificial Intelligence\"\n",
    "print(\"\\nQuestion 8: Extract the first 5 characters from 'Artificial Intelligence'\")"
   ]
  },
  {
   "cell_type": "code",
   "execution_count": 27,
   "id": "7ffb03ec-4ca8-4bce-92ec-e7c0687c36de",
   "metadata": {},
   "outputs": [
    {
     "data": {
      "text/plain": [
       "'Artif'"
      ]
     },
     "execution_count": 27,
     "metadata": {},
     "output_type": "execute_result"
    }
   ],
   "source": [
    "x='Artificial Intelligence'\n",
    "x[:5]"
   ]
  },
  {
   "cell_type": "code",
   "execution_count": 28,
   "id": "494d8de7-d2db-4c97-bc43-b0d1a297f105",
   "metadata": {},
   "outputs": [
    {
     "name": "stdout",
     "output_type": "stream",
     "text": [
      "\n",
      "Question 9: Convert 'UPPERCASE' to lowercase\n"
     ]
    }
   ],
   "source": [
    "# Question 9: Convert \"UPPERCASE\" to lowercase\n",
    "print(\"\\nQuestion 9: Convert 'UPPERCASE' to lowercase\")"
   ]
  },
  {
   "cell_type": "code",
   "execution_count": 29,
   "id": "dc0cff0e-f2c4-40f9-a210-0aae456a0111",
   "metadata": {},
   "outputs": [
    {
     "data": {
      "text/plain": [
       "'uppercase'"
      ]
     },
     "execution_count": 29,
     "metadata": {},
     "output_type": "execute_result"
    }
   ],
   "source": [
    "x='UPPERCASE'\n",
    "x.lower()"
   ]
  },
  {
   "cell_type": "code",
   "execution_count": 30,
   "id": "2258f0b8-98f6-461b-ab7d-df111e303317",
   "metadata": {},
   "outputs": [
    {
     "name": "stdout",
     "output_type": "stream",
     "text": [
      "\n",
      "Question 10: Remove all vowels from 'Computer Science'\n"
     ]
    }
   ],
   "source": [
    "# Question 10: Remove all vowels from \"Computer Science\"\n",
    "print(\"\\nQuestion 10: Remove all vowels from 'Computer Science'\")"
   ]
  },
  {
   "cell_type": "code",
   "execution_count": 41,
   "id": "228938ae-d10a-4ea6-9746-33c5958b0fe2",
   "metadata": {},
   "outputs": [
    {
     "name": "stdout",
     "output_type": "stream",
     "text": [
      "Cmptr Scnc\n"
     ]
    }
   ],
   "source": [
    "x='Computer Science'\n",
    "y='aeiouAEIOU'\n",
    "z=\"\"\n",
    "for char in x:\n",
    "    if char not in y:\n",
    "        z += char\n",
    "print(z)"
   ]
  },
  {
   "cell_type": "code",
   "execution_count": 42,
   "id": "fa406c29-94eb-4105-9150-e21ec2c673bc",
   "metadata": {},
   "outputs": [
    {
     "name": "stdout",
     "output_type": "stream",
     "text": [
      "\n",
      "Question 11: Find the most frequent character in 'mississippi'\n"
     ]
    }
   ],
   "source": [
    "# Question 11: Find the most frequent character in \"mississippi\"\n",
    "print(\"\\nQuestion 11: Find the most frequent character in 'mississippi'\")"
   ]
  },
  {
   "cell_type": "code",
   "execution_count": null,
   "id": "2a98245c-61a7-4f46-8e13-a5d3ee56cdb4",
   "metadata": {},
   "outputs": [],
   "source": []
  },
  {
   "cell_type": "code",
   "execution_count": null,
   "id": "1a727d79-7378-4e1c-96a9-6e22cb91b485",
   "metadata": {},
   "outputs": [],
   "source": [
    "\n"
   ]
  },
  {
   "cell_type": "code",
   "execution_count": null,
   "id": "1eb41118-1e62-4f40-a227-0552e3b042dd",
   "metadata": {},
   "outputs": [],
   "source": []
  },
  {
   "cell_type": "code",
   "execution_count": 43,
   "id": "3ac5497c-f7c8-4470-9ec8-8b67cedb8165",
   "metadata": {},
   "outputs": [
    {
     "name": "stdout",
     "output_type": "stream",
     "text": [
      "\n",
      "Question 12: Check if two strings are anagrams: 'listen' and 'silent'\n"
     ]
    }
   ],
   "source": [
    "# Question 12: Check if two strings are anagrams: \"listen\" and \"silent\"\n",
    "print(\"\\nQuestion 12: Check if two strings are anagrams: 'listen' and 'silent'\")"
   ]
  },
  {
   "cell_type": "code",
   "execution_count": 45,
   "id": "e792b20b-48aa-475d-a932-41c84e43e3b9",
   "metadata": {},
   "outputs": [],
   "source": [
    "a='listen'\n",
    "b='silent'\n"
   ]
  },
  {
   "cell_type": "code",
   "execution_count": null,
   "id": "56ac0e5c-8625-46bf-bf04-bc26e63e0c80",
   "metadata": {},
   "outputs": [],
   "source": []
  },
  {
   "cell_type": "code",
   "execution_count": null,
   "id": "e7e139e3-da0e-4f6b-ba54-181acd550549",
   "metadata": {},
   "outputs": [],
   "source": []
  },
  {
   "cell_type": "code",
   "execution_count": null,
   "id": "1b0ef3b1-1532-4ffe-bac3-10f49f70608e",
   "metadata": {},
   "outputs": [],
   "source": []
  },
  {
   "cell_type": "code",
   "execution_count": null,
   "id": "a880ae97-87d2-477d-badb-f1704c54ccd5",
   "metadata": {},
   "outputs": [],
   "source": []
  },
  {
   "cell_type": "code",
   "execution_count": 46,
   "id": "47b041fd-2b46-4fb3-9601-fed22c298ac7",
   "metadata": {},
   "outputs": [
    {
     "name": "stdout",
     "output_type": "stream",
     "text": [
      "\n",
      "Question 13: Capitalize first letter of each word in 'python programming language'\n"
     ]
    }
   ],
   "source": [
    "# Question 13: Capitalize first letter of each word in \"python programming language\"\n",
    "print(\"\\nQuestion 13: Capitalize first letter of each word in 'python programming language'\")"
   ]
  },
  {
   "cell_type": "code",
   "execution_count": 48,
   "id": "bbdd52c9-734c-450a-b4bb-9f973e19f71c",
   "metadata": {},
   "outputs": [
    {
     "data": {
      "text/plain": [
       "'Python Programming Language'"
      ]
     },
     "execution_count": 48,
     "metadata": {},
     "output_type": "execute_result"
    }
   ],
   "source": [
    "x='python programming language'\n",
    "x.title()"
   ]
  },
  {
   "cell_type": "code",
   "execution_count": 49,
   "id": "4310754c-77ba-40a5-96af-2b7a29124e61",
   "metadata": {},
   "outputs": [
    {
     "name": "stdout",
     "output_type": "stream",
     "text": [
      "\n",
      "Question 14: Count consonants in 'Hello World'\n"
     ]
    }
   ],
   "source": [
    "# Question 14: Count consonants in \"Hello World\"\n",
    "print(\"\\nQuestion 14: Count consonants in 'Hello World'\")"
   ]
  },
  {
   "cell_type": "code",
   "execution_count": 61,
   "id": "6890a5b6-ee47-409f-9cf9-8fb5fb8acbdd",
   "metadata": {},
   "outputs": [
    {
     "name": "stdout",
     "output_type": "stream",
     "text": [
      "Hll Wrld\n"
     ]
    }
   ],
   "source": [
    "x='Hello World'\n",
    "y='aeiouAEIOU'\n",
    "z=\"\"\n",
    "for char in x:\n",
    "    if char not in y:\n",
    "        z+= char\n",
    "print(z)\n"
   ]
  },
  {
   "cell_type": "code",
   "execution_count": 65,
   "id": "d3485b3b-d18c-4d97-81b9-63d2b2065c48",
   "metadata": {},
   "outputs": [
    {
     "data": {
      "text/plain": [
       "'Hll Wrld'"
      ]
     },
     "execution_count": 65,
     "metadata": {},
     "output_type": "execute_result"
    }
   ],
   "source": [
    "z"
   ]
  },
  {
   "cell_type": "code",
   "execution_count": 69,
   "id": "30c8269f-8cbf-43bf-8fe5-200be4e409f8",
   "metadata": {},
   "outputs": [
    {
     "data": {
      "text/plain": [
       "8"
      ]
     },
     "execution_count": 69,
     "metadata": {},
     "output_type": "execute_result"
    }
   ],
   "source": [
    "len(z)"
   ]
  },
  {
   "cell_type": "raw",
   "id": "05204166-4da8-4d33-b6ed-b3e030d4c23d",
   "metadata": {},
   "source": [
    "z"
   ]
  },
  {
   "cell_type": "code",
   "execution_count": 71,
   "id": "d92e7e53-aaac-488b-8a47-21ce67362d9c",
   "metadata": {},
   "outputs": [
    {
     "data": {
      "text/plain": [
       "'Hll Wrld'"
      ]
     },
     "execution_count": 71,
     "metadata": {},
     "output_type": "execute_result"
    }
   ],
   "source": [
    "z"
   ]
  },
  {
   "cell_type": "code",
   "execution_count": 74,
   "id": "940386ee-547c-48c4-a683-b6e6a60342a3",
   "metadata": {},
   "outputs": [
    {
     "data": {
      "text/plain": [
       "'HllWrld'"
      ]
     },
     "execution_count": 74,
     "metadata": {},
     "output_type": "execute_result"
    }
   ],
   "source": [
    "z.replace(\" \",\"\")"
   ]
  },
  {
   "cell_type": "code",
   "execution_count": 76,
   "id": "a3d12c47-5ddb-46ea-bc49-b9976487afa6",
   "metadata": {},
   "outputs": [
    {
     "data": {
      "text/plain": [
       "8"
      ]
     },
     "execution_count": 76,
     "metadata": {},
     "output_type": "execute_result"
    }
   ],
   "source": [
    "len(z)"
   ]
  },
  {
   "cell_type": "code",
   "execution_count": 77,
   "id": "6d1321fe-9d36-4703-99fd-26690b17adf0",
   "metadata": {},
   "outputs": [
    {
     "name": "stdout",
     "output_type": "stream",
     "text": [
      "\n",
      "Question 15: Find the longest word in 'Python is a programming language'\n"
     ]
    }
   ],
   "source": [
    "# Question 15: Find the longest word in \"Python is a programming language\"\n",
    "print(\"\\nQuestion 15: Find the longest word in 'Python is a programming language'\")"
   ]
  },
  {
   "cell_type": "code",
   "execution_count": 83,
   "id": "8f324b47-eaa2-41d4-bb4f-02b95c124f88",
   "metadata": {},
   "outputs": [
    {
     "name": "stdout",
     "output_type": "stream",
     "text": [
      "['Python', 'is', 'a', 'programming', 'language']\n"
     ]
    }
   ],
   "source": [
    "x='Python is a programming language'\n",
    "y = x.split()\n",
    "longest_word = ''\n",
    "for word in y:\n",
    "    if len(y) > len(longest_word):\n",
    "        longest_word = y\n",
    "print(longest_word)"
   ]
  },
  {
   "cell_type": "code",
   "execution_count": 86,
   "id": "b57a688e-1d0e-416e-bed5-e81d4e635354",
   "metadata": {},
   "outputs": [
    {
     "data": {
      "text/plain": [
       "['Python', 'is', 'a', 'programming', 'language']"
      ]
     },
     "execution_count": 86,
     "metadata": {},
     "output_type": "execute_result"
    }
   ],
   "source": [
    "longest_word"
   ]
  },
  {
   "cell_type": "code",
   "execution_count": 85,
   "id": "fb8496d0-1587-4e80-9ff7-388cec35e182",
   "metadata": {},
   "outputs": [
    {
     "ename": "TypeError",
     "evalue": "'builtin_function_or_method' object is not subscriptable",
     "output_type": "error",
     "traceback": [
      "\u001b[31m---------------------------------------------------------------------------\u001b[39m",
      "\u001b[31mTypeError\u001b[39m                                 Traceback (most recent call last)",
      "\u001b[36mCell\u001b[39m\u001b[36m \u001b[39m\u001b[32mIn[85]\u001b[39m\u001b[32m, line 1\u001b[39m\n\u001b[32m----> \u001b[39m\u001b[32m1\u001b[39m \u001b[38;5;28;43mlen\u001b[39;49m\u001b[43m[\u001b[49m\u001b[32;43m0\u001b[39;49m\u001b[43m]\u001b[49m\n",
      "\u001b[31mTypeError\u001b[39m: 'builtin_function_or_method' object is not subscriptable"
     ]
    }
   ],
   "source": [
    "longest_word"
   ]
  },
  {
   "cell_type": "code",
   "execution_count": null,
   "id": "399485c4-8f88-4cfc-b7b7-28b18e43ab42",
   "metadata": {},
   "outputs": [],
   "source": []
  },
  {
   "cell_type": "code",
   "execution_count": null,
   "id": "84a08ec4-48e4-4d7e-846b-e9a9cfbd576a",
   "metadata": {},
   "outputs": [],
   "source": []
  },
  {
   "cell_type": "code",
   "execution_count": null,
   "id": "7313c010-8a50-426f-b4c6-bb017dce180f",
   "metadata": {},
   "outputs": [],
   "source": []
  },
  {
   "cell_type": "code",
   "execution_count": 1,
   "id": "014e6db6-354e-41a2-8c53-33d490fb86bf",
   "metadata": {},
   "outputs": [
    {
     "name": "stdout",
     "output_type": "stream",
     "text": [
      "\n",
      "Question 16: Remove all punctuation from 'Hello, World! How are you?'\n"
     ]
    }
   ],
   "source": [
    "# Question 16: Remove all punctuation from \"Hello, World! How are you?\"\n",
    "print(\"\\nQuestion 16: Remove all punctuation from 'Hello, World! How are you?'\")"
   ]
  },
  {
   "cell_type": "code",
   "execution_count": null,
   "id": "b30313c4-5252-43ad-941e-f7040fec1e29",
   "metadata": {},
   "outputs": [],
   "source": []
  },
  {
   "cell_type": "code",
   "execution_count": 2,
   "id": "1183f7b6-f26d-4ad0-939d-8dd4429a2cfb",
   "metadata": {},
   "outputs": [
    {
     "name": "stdout",
     "output_type": "stream",
     "text": [
      "\n",
      "Question 17: Check if string starts with 'Python'\n"
     ]
    }
   ],
   "source": [
    "# Question 17: Check if string starts with \"Python\"\n",
    "print(\"\\nQuestion 17: Check if string starts with 'Python'\")\n"
   ]
  },
  {
   "cell_type": "code",
   "execution_count": 4,
   "id": "f64bde5c-e057-4ebe-b729-67e75f28d166",
   "metadata": {},
   "outputs": [
    {
     "data": {
      "text/plain": [
       "False"
      ]
     },
     "execution_count": 4,
     "metadata": {},
     "output_type": "execute_result"
    }
   ],
   "source": [
    "x=\"python\"\n",
    "x.startswith(\"Python\")"
   ]
  },
  {
   "cell_type": "code",
   "execution_count": 5,
   "id": "e09e40d0-1bfe-460d-96e5-ecafe5228e41",
   "metadata": {},
   "outputs": [
    {
     "name": "stdout",
     "output_type": "stream",
     "text": [
      "\n",
      "Question 18: Find the index of first occurrence of 'o' in 'Hello World'\n"
     ]
    }
   ],
   "source": [
    "# Question 18: Find the index of first occurrence of 'o' in \"Hello World\"\n",
    "print(\"\\nQuestion 18: Find the index of first occurrence of 'o' in 'Hello World'\")"
   ]
  },
  {
   "cell_type": "code",
   "execution_count": 8,
   "id": "d126ae4c-a184-4c67-a7b4-99245bf38e8e",
   "metadata": {},
   "outputs": [
    {
     "data": {
      "text/plain": [
       "4"
      ]
     },
     "execution_count": 8,
     "metadata": {},
     "output_type": "execute_result"
    }
   ],
   "source": [
    "x='Hello World'\n",
    "x.index('o')"
   ]
  },
  {
   "cell_type": "code",
   "execution_count": 9,
   "id": "163ca276-1462-4152-8063-f986ea87e0d8",
   "metadata": {},
   "outputs": [
    {
     "name": "stdout",
     "output_type": "stream",
     "text": [
      "\n",
      "Question 19: Split string 'apple,banana,orange' by comma\n"
     ]
    }
   ],
   "source": [
    "# Question 19: Split string \"apple,banana,orange\" by comma\n",
    "print(\"\\nQuestion 19: Split string 'apple,banana,orange' by comma\")"
   ]
  },
  {
   "cell_type": "code",
   "execution_count": 11,
   "id": "512a8203-82cf-4cdc-a071-d0b14e186508",
   "metadata": {},
   "outputs": [
    {
     "data": {
      "text/plain": [
       "['apple', 'banana', 'orange']"
      ]
     },
     "execution_count": 11,
     "metadata": {},
     "output_type": "execute_result"
    }
   ],
   "source": [
    "a= 'apple,banana,orange'\n",
    "a.split(',')"
   ]
  },
  {
   "cell_type": "code",
   "execution_count": 12,
   "id": "2c701825-79c9-4c33-897e-c0d52cbc0407",
   "metadata": {},
   "outputs": [
    {
     "name": "stdout",
     "output_type": "stream",
     "text": [
      "\n",
      "Question 20: Join list ['Python', 'is', 'awesome'] with spaces\n"
     ]
    }
   ],
   "source": [
    "# Question 20: Join list ['Python', 'is', 'awesome'] with spaces\n",
    "print(\"\\nQuestion 20: Join list ['Python', 'is', 'awesome'] with spaces\")"
   ]
  },
  {
   "cell_type": "code",
   "execution_count": 15,
   "id": "e58766a3-b052-477a-b525-189839d3e518",
   "metadata": {},
   "outputs": [
    {
     "name": "stdout",
     "output_type": "stream",
     "text": [
      "Python is awesome\n"
     ]
    }
   ],
   "source": [
    "l= ['Python', 'is', 'awesome']\n",
    "string=\" \".join(l)\n",
    "print(string)"
   ]
  },
  {
   "cell_type": "code",
   "execution_count": 16,
   "id": "3f0c0c4d-24f5-4732-bf90-425ae8ad834e",
   "metadata": {},
   "outputs": [
    {
     "name": "stdout",
     "output_type": "stream",
     "text": [
      "\n",
      "Question 21: Check if string contains only digits: '12345'\n"
     ]
    }
   ],
   "source": [
    "# Question 21: Check if string contains only digits: \"12345\"\n",
    "print(\"\\nQuestion 21: Check if string contains only digits: '12345'\")"
   ]
  },
  {
   "cell_type": "code",
   "execution_count": 17,
   "id": "e30cb13c-eb0a-4a04-9edf-ba30a57021e5",
   "metadata": {},
   "outputs": [
    {
     "data": {
      "text/plain": [
       "True"
      ]
     },
     "execution_count": 17,
     "metadata": {},
     "output_type": "execute_result"
    }
   ],
   "source": [
    "x='12345'\n",
    "x.isdigit()"
   ]
  },
  {
   "cell_type": "code",
   "execution_count": 18,
   "id": "c706bce1-57ae-40fc-86a0-8346279272f7",
   "metadata": {},
   "outputs": [
    {
     "name": "stdout",
     "output_type": "stream",
     "text": [
      "\n",
      "Question 22: Check if string contains only letters: 'HelloWorld'\n"
     ]
    }
   ],
   "source": [
    "# Question 22: Check if string contains only letters: \"HelloWorld\"\n",
    "print(\"\\nQuestion 22: Check if string contains only letters: 'HelloWorld'\")"
   ]
  },
  {
   "cell_type": "code",
   "execution_count": 19,
   "id": "a8959334-3c5e-4496-91d2-a02d3d7102b1",
   "metadata": {},
   "outputs": [
    {
     "data": {
      "text/plain": [
       "True"
      ]
     },
     "execution_count": 19,
     "metadata": {},
     "output_type": "execute_result"
    }
   ],
   "source": [
    "a='HelloWorld'\n",
    "a.isalpha()"
   ]
  },
  {
   "cell_type": "code",
   "execution_count": 20,
   "id": "87e06652-d09a-4c1f-9d8e-f8372a752817",
   "metadata": {},
   "outputs": [
    {
     "name": "stdout",
     "output_type": "stream",
     "text": [
      "\n",
      "Question 23: Convert 'hello world' to 'hElLo WoRlD' (alternating case)\n"
     ]
    }
   ],
   "source": [
    "# Question 23: Convert \"hello world\" to \"hElLo WoRlD\" (alternating case)\n",
    "print(\"\\nQuestion 23: Convert 'hello world' to 'hElLo WoRlD' (alternating case)\")"
   ]
  },
  {
   "cell_type": "code",
   "execution_count": null,
   "id": "4609f9a3-c788-4d81-bc55-967ee45ef8df",
   "metadata": {},
   "outputs": [],
   "source": []
  },
  {
   "cell_type": "code",
   "execution_count": null,
   "id": "27e1a9e5-50ff-4546-9e28-a6bf7845c007",
   "metadata": {},
   "outputs": [],
   "source": []
  },
  {
   "cell_type": "code",
   "execution_count": null,
   "id": "3f8516c7-243f-485a-b9ab-a3c466a6a595",
   "metadata": {},
   "outputs": [],
   "source": []
  },
  {
   "cell_type": "code",
   "execution_count": 22,
   "id": "417ba2be-e85b-48da-9c43-f772d3684ad9",
   "metadata": {},
   "outputs": [
    {
     "name": "stdout",
     "output_type": "stream",
     "text": [
      "\n",
      "Question 24: Find all positions of 'a' in 'banana'\n"
     ]
    }
   ],
   "source": [
    "# Question 24: Find all positions of 'a' in \"banana\"\n",
    "print(\"\\nQuestion 24: Find all positions of 'a' in 'banana'\")"
   ]
  },
  {
   "cell_type": "code",
   "execution_count": 23,
   "id": "26187cb0-cb80-4e7e-9d90-bccd9f199e13",
   "metadata": {},
   "outputs": [
    {
     "data": {
      "text/plain": [
       "1"
      ]
     },
     "execution_count": 23,
     "metadata": {},
     "output_type": "execute_result"
    }
   ],
   "source": [
    "x='banana'\n",
    "x.find('a')"
   ]
  },
  {
   "cell_type": "code",
   "execution_count": 24,
   "id": "16e8d92f-1a1c-49b3-8ec3-38d42b9ff7df",
   "metadata": {},
   "outputs": [
    {
     "data": {
      "text/plain": [
       "3"
      ]
     },
     "execution_count": 24,
     "metadata": {},
     "output_type": "execute_result"
    }
   ],
   "source": [
    "x.count('a')"
   ]
  },
  {
   "cell_type": "code",
   "execution_count": null,
   "id": "0bf2b26e-e982-45a5-84be-ed0b87edd4f8",
   "metadata": {},
   "outputs": [],
   "source": []
  },
  {
   "cell_type": "code",
   "execution_count": null,
   "id": "59c630ed-fc4d-4d05-a036-6c76165920b9",
   "metadata": {},
   "outputs": [],
   "source": []
  },
  {
   "cell_type": "code",
   "execution_count": 25,
   "id": "840065c1-3f27-4d18-bbb3-9783e968fd20",
   "metadata": {},
   "outputs": [
    {
     "name": "stdout",
     "output_type": "stream",
     "text": [
      "\n",
      "Question 25: Remove leading and trailing whitespace from '  Hello World  '\n"
     ]
    }
   ],
   "source": [
    "# Question 25: Remove leading and trailing whitespace from \"  Hello World  \"\n",
    "print(\"\\nQuestion 25: Remove leading and trailing whitespace from '  Hello World  '\")"
   ]
  },
  {
   "cell_type": "code",
   "execution_count": 26,
   "id": "474cb8f0-621c-4b63-a269-6109b0829a4a",
   "metadata": {},
   "outputs": [
    {
     "data": {
      "text/plain": [
       "'Hello World'"
      ]
     },
     "execution_count": 26,
     "metadata": {},
     "output_type": "execute_result"
    }
   ],
   "source": [
    "x= '  Hello World  '\n",
    "x.strip()"
   ]
  },
  {
   "cell_type": "code",
   "execution_count": 27,
   "id": "c3cc1d94-e489-4242-89ca-b9894c17d99d",
   "metadata": {},
   "outputs": [
    {
     "name": "stdout",
     "output_type": "stream",
     "text": [
      "\n",
      "Question 26: Check if string ends with 'ing': 'programming'\n"
     ]
    }
   ],
   "source": [
    "# Question 26: Check if string ends with \"ing\": \"programming\"\n",
    "print(\"\\nQuestion 26: Check if string ends with 'ing': 'programming'\")"
   ]
  },
  {
   "cell_type": "code",
   "execution_count": 28,
   "id": "c2d772a7-b674-4343-a713-6821b9d30120",
   "metadata": {},
   "outputs": [
    {
     "data": {
      "text/plain": [
       "True"
      ]
     },
     "execution_count": 28,
     "metadata": {},
     "output_type": "execute_result"
    }
   ],
   "source": [
    "x='programming'\n",
    "x.endswith('ing')"
   ]
  },
  {
   "cell_type": "code",
   "execution_count": 29,
   "id": "15d50203-7319-4396-bc77-f5472fc969e6",
   "metadata": {},
   "outputs": [
    {
     "name": "stdout",
     "output_type": "stream",
     "text": [
      "\n",
      "Question 27: Replace first occurrence of 'o' with '0' in 'Hello World'\n"
     ]
    }
   ],
   "source": [
    "# Question 27: Replace first occurrence of 'o' with '0' in \"Hello World\"\n",
    "print(\"\\nQuestion 27: Replace first occurrence of 'o' with '0' in 'Hello World'\")"
   ]
  },
  {
   "cell_type": "code",
   "execution_count": 30,
   "id": "a033c461-3e4a-42bf-ab12-15e3d7fcb8cb",
   "metadata": {},
   "outputs": [
    {
     "data": {
      "text/plain": [
       "'Hell0 World'"
      ]
     },
     "execution_count": 30,
     "metadata": {},
     "output_type": "execute_result"
    }
   ],
   "source": [
    "x='Hello World'\n",
    "x.replace('o','0',1)"
   ]
  },
  {
   "cell_type": "code",
   "execution_count": 31,
   "id": "41cba211-1c51-45c6-80e7-7d28cfa099df",
   "metadata": {},
   "outputs": [
    {
     "ename": "TypeError",
     "evalue": "'str' object does not support item assignment",
     "output_type": "error",
     "traceback": [
      "\u001b[31m---------------------------------------------------------------------------\u001b[39m",
      "\u001b[31mTypeError\u001b[39m                                 Traceback (most recent call last)",
      "\u001b[36mCell\u001b[39m\u001b[36m \u001b[39m\u001b[32mIn[31]\u001b[39m\u001b[32m, line 1\u001b[39m\n\u001b[32m----> \u001b[39m\u001b[32m1\u001b[39m \u001b[43mx\u001b[49m\u001b[43m[\u001b[49m\u001b[32;43m4\u001b[39;49m\u001b[43m]\u001b[49m=\u001b[32m0\u001b[39m\n",
      "\u001b[31mTypeError\u001b[39m: 'str' object does not support item assignment"
     ]
    }
   ],
   "source": [
    "x[4]=0"
   ]
  },
  {
   "cell_type": "code",
   "execution_count": 34,
   "id": "2906524b-2c8a-4f81-af8e-010df93492bc",
   "metadata": {},
   "outputs": [
    {
     "name": "stdout",
     "output_type": "stream",
     "text": [
      "\n",
      "Question 28: Find the shortest word in 'Python is a programming language'\n"
     ]
    }
   ],
   "source": [
    "# Question 28: Find the shortest word in \"Python is a programming language\"\n",
    "print(\"\\nQuestion 28: Find the shortest word in 'Python is a programming language'\")"
   ]
  },
  {
   "cell_type": "code",
   "execution_count": null,
   "id": "6acde127-67fe-4aa1-964f-3c8c92f8f12d",
   "metadata": {},
   "outputs": [],
   "source": []
  },
  {
   "cell_type": "code",
   "execution_count": null,
   "id": "5f9ad912-78eb-4895-a87b-5d19bca0206b",
   "metadata": {},
   "outputs": [],
   "source": []
  },
  {
   "cell_type": "code",
   "execution_count": 35,
   "id": "673d3ae3-8cf2-42de-adee-1c44b49bba30",
   "metadata": {},
   "outputs": [
    {
     "name": "stdout",
     "output_type": "stream",
     "text": [
      "\n",
      "Question 29: Count words that start with 'p' in 'Python programming is powerful'\n"
     ]
    }
   ],
   "source": [
    "# Question 29: Count words that start with 'p' in \"Python programming is powerful\"\n",
    "print(\"\\nQuestion 29: Count words that start with 'p' in 'Python programming is powerful'\")"
   ]
  },
  {
   "cell_type": "code",
   "execution_count": 41,
   "id": "2757f553-8e57-4422-9baf-36153a729eba",
   "metadata": {},
   "outputs": [
    {
     "name": "stdout",
     "output_type": "stream",
     "text": [
      "3\n"
     ]
    }
   ],
   "source": [
    "x='Python programming is powerful'\n",
    "words = x.split()\n",
    "count = 0\n",
    "for word in words:\n",
    "    if word.lower().startswith('p'):\n",
    "        count += 1\n",
    "print(count)"
   ]
  },
  {
   "cell_type": "code",
   "execution_count": 42,
   "id": "fdf3e279-f26b-460d-8d68-7b49ef61f92c",
   "metadata": {},
   "outputs": [
    {
     "name": "stdout",
     "output_type": "stream",
     "text": [
      "\n",
      "Question 30: Reverse words in 'Hello World Python'\n"
     ]
    }
   ],
   "source": [
    "# Question 30: Reverse words in \"Hello World Python\"\n",
    "print(\"\\nQuestion 30: Reverse words in 'Hello World Python'\")"
   ]
  },
  {
   "cell_type": "code",
   "execution_count": 48,
   "id": "4f9f0c04-4812-4847-86b8-00945c92162f",
   "metadata": {},
   "outputs": [
    {
     "name": "stdout",
     "output_type": "stream",
     "text": [
      "Python World Hello\n"
     ]
    }
   ],
   "source": [
    "d='Hello World Python'\n",
    "s=d.split()\n",
    "m=s[::-1]\n",
    "o=' '.join(m)\n",
    "print(o)"
   ]
  },
  {
   "cell_type": "code",
   "execution_count": 50,
   "id": "93cf7a2e-ec37-49fc-9cc8-003294276f32",
   "metadata": {},
   "outputs": [
    {
     "name": "stdout",
     "output_type": "stream",
     "text": [
      "\n",
      "Question 31: Check if string is a valid email format: 'user@example.com'\n"
     ]
    }
   ],
   "source": [
    "# Question 31: Check if string is a valid email format: \"user@example.com\"\n",
    "print(\"\\nQuestion 31: Check if string is a valid email format: 'user@example.com'\")"
   ]
  },
  {
   "cell_type": "code",
   "execution_count": 51,
   "id": "4c19aaf7-05d7-4a9c-b207-c0aa48ec5bd8",
   "metadata": {},
   "outputs": [
    {
     "data": {
      "text/plain": [
       "str"
      ]
     },
     "execution_count": 51,
     "metadata": {},
     "output_type": "execute_result"
    }
   ],
   "source": [
    "x='user@example.com'\n",
    "type(x)"
   ]
  },
  {
   "cell_type": "code",
   "execution_count": 52,
   "id": "67d5e90f-6fc0-4e34-b64c-0638ce9f6097",
   "metadata": {},
   "outputs": [
    {
     "name": "stdout",
     "output_type": "stream",
     "text": [
      "\n",
      "Question 32: Extract domain from 'https://www.example.com/path'\n"
     ]
    }
   ],
   "source": [
    "# Question 32: Extract domain from \"https://www.example.com/path\"\n",
    "print(\"\\nQuestion 32: Extract domain from 'https://www.example.com/path'\")"
   ]
  },
  {
   "cell_type": "code",
   "execution_count": null,
   "id": "d7f5333d-5672-4118-8c09-0f56ae7d9f69",
   "metadata": {},
   "outputs": [],
   "source": []
  },
  {
   "cell_type": "code",
   "execution_count": null,
   "id": "e1f21d13-55ff-4fb3-9f83-836b10a21566",
   "metadata": {},
   "outputs": [],
   "source": []
  },
  {
   "cell_type": "code",
   "execution_count": 53,
   "id": "75c2fbbb-d3a4-487e-959c-147057fc5c41",
   "metadata": {},
   "outputs": [
    {
     "name": "stdout",
     "output_type": "stream",
     "text": [
      "\n",
      "Question 33: Count lines in multi-line string\n"
     ]
    }
   ],
   "source": [
    "# Question 33: Count lines in multi-line string\n",
    "print(\"\\nQuestion 33: Count lines in multi-line string\")"
   ]
  },
  {
   "cell_type": "code",
   "execution_count": null,
   "id": "1be6d64e-7813-49c5-8172-46bf25af7ca7",
   "metadata": {},
   "outputs": [],
   "source": []
  },
  {
   "cell_type": "code",
   "execution_count": null,
   "id": "01c8a2ae-dee8-4722-875d-99eba84e3771",
   "metadata": {},
   "outputs": [],
   "source": []
  },
  {
   "cell_type": "code",
   "execution_count": null,
   "id": "e9c249b0-88d0-4add-8569-959a5edd9323",
   "metadata": {},
   "outputs": [],
   "source": []
  },
  {
   "cell_type": "code",
   "execution_count": 54,
   "id": "39025d88-5fc1-4375-be54-206e13b5e3e0",
   "metadata": {},
   "outputs": [
    {
     "name": "stdout",
     "output_type": "stream",
     "text": [
      "\n",
      "Question 34: Find common characters between 'hello' and 'world'\n"
     ]
    }
   ],
   "source": [
    "\n",
    "# Question 34: Find common characters between \"hello\" and \"world\"\n",
    "print(\"\\nQuestion 34: Find common characters between 'hello' and 'world'\")"
   ]
  },
  {
   "cell_type": "code",
   "execution_count": null,
   "id": "e2c4e366-6ab2-41fd-9a60-87dd9535ad28",
   "metadata": {},
   "outputs": [],
   "source": []
  },
  {
   "cell_type": "code",
   "execution_count": 6,
   "id": "04118ac8-1895-48ac-b2d0-490922699955",
   "metadata": {},
   "outputs": [],
   "source": [
    "import re"
   ]
  },
  {
   "cell_type": "code",
   "execution_count": 7,
   "id": "45d0a499-e044-4331-9f45-4e1bd8fc160a",
   "metadata": {},
   "outputs": [
    {
     "name": "stdout",
     "output_type": "stream",
     "text": [
      "\n",
      "Question 35: Check if string is a valid phone number: '+1-555-123-4567'\n"
     ]
    }
   ],
   "source": [
    "# Question 35: Check if string is a valid phone number: \"+1-555-123-4567\"\n",
    "print(\"\\nQuestion 35: Check if string is a valid phone number: '+1-555-123-4567'\")"
   ]
  },
  {
   "cell_type": "code",
   "execution_count": 8,
   "id": "4a401ad0-6ea1-4f31-bdf8-5fd8d64d70d0",
   "metadata": {},
   "outputs": [
    {
     "name": "stdout",
     "output_type": "stream",
     "text": [
      "The string '{no}' is a valid phone number.\n"
     ]
    }
   ],
   "source": [
    "no='+1-555-123-4567'\n",
    "pattern=r'^\\+1-\\d{3}-\\d{3}-\\d{4}$'\n",
    "if re.match(pattern, no):\n",
    "    print(\"The string '{no}' is a valid phone number.\")\n",
    "else:\n",
    "    print(\"The string '{no}' is not a valid phone number.\")"
   ]
  },
  {
   "cell_type": "code",
   "execution_count": 9,
   "id": "6e808f96-9581-4f95-8c77-349182599670",
   "metadata": {},
   "outputs": [
    {
     "name": "stdout",
     "output_type": "stream",
     "text": [
      "\n",
      "Question 36: Extract numbers from 'abc123def456ghi789'\n"
     ]
    }
   ],
   "source": [
    "# Question 36: Extract numbers from \"abc123def456ghi789\"\n",
    "print(\"\\nQuestion 36: Extract numbers from 'abc123def456ghi789'\")"
   ]
  },
  {
   "cell_type": "code",
   "execution_count": null,
   "id": "149cad19-b4cb-413c-8152-2a669db59418",
   "metadata": {},
   "outputs": [],
   "source": []
  },
  {
   "cell_type": "code",
   "execution_count": null,
   "id": "83ab903d-b751-47f3-83b3-ae5ec2628723",
   "metadata": {},
   "outputs": [],
   "source": []
  },
  {
   "cell_type": "code",
   "execution_count": null,
   "id": "90fb9c4e-1c07-4708-ba11-39068eeece6a",
   "metadata": {},
   "outputs": [],
   "source": []
  },
  {
   "cell_type": "code",
   "execution_count": 10,
   "id": "66c9c0f1-c302-41fe-bc92-d049e859d96f",
   "metadata": {},
   "outputs": [
    {
     "name": "stdout",
     "output_type": "stream",
     "text": [
      "\n",
      "Question 37: Convert 'snake_case' to 'camelCase'\n"
     ]
    }
   ],
   "source": [
    "# Question 37: Convert \"snake_case\" to \"camelCase\"\n",
    "print(\"\\nQuestion 37: Convert 'snake_case' to 'camelCase'\")"
   ]
  },
  {
   "cell_type": "code",
   "execution_count": 23,
   "id": "a43fa0a9-f760-48ce-a4e2-effdfd1ed268",
   "metadata": {},
   "outputs": [
    {
     "data": {
      "text/plain": [
       "['snake', 'case']"
      ]
     },
     "execution_count": 23,
     "metadata": {},
     "output_type": "execute_result"
    }
   ],
   "source": [
    "x='snake_case'\n",
    "x.split('_')"
   ]
  },
  {
   "cell_type": "code",
   "execution_count": null,
   "id": "43a65744-75ad-4a3d-a0d4-019abe2dd80f",
   "metadata": {},
   "outputs": [],
   "source": []
  },
  {
   "cell_type": "code",
   "execution_count": null,
   "id": "d6d3ff5a-761b-40c1-9304-aaf999874440",
   "metadata": {},
   "outputs": [],
   "source": []
  },
  {
   "cell_type": "code",
   "execution_count": null,
   "id": "97ec875b-efb8-4cf6-8179-fa99c720cee8",
   "metadata": {},
   "outputs": [],
   "source": []
  }
 ],
 "metadata": {
  "kernelspec": {
   "display_name": "Python 3 (ipykernel)",
   "language": "python",
   "name": "python3"
  },
  "language_info": {
   "codemirror_mode": {
    "name": "ipython",
    "version": 3
   },
   "file_extension": ".py",
   "mimetype": "text/x-python",
   "name": "python",
   "nbconvert_exporter": "python",
   "pygments_lexer": "ipython3",
   "version": "3.13.5"
  }
 },
 "nbformat": 4,
 "nbformat_minor": 5
}
